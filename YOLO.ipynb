{
 "cells": [
  {
   "cell_type": "code",
   "execution_count": 1,
   "id": "efaeea8b-e7ab-4c25-b890-60df3e697faa",
   "metadata": {},
   "outputs": [
    {
     "name": "stdout",
     "output_type": "stream",
     "text": [
      "CUDA available: True\n",
      "Device: NVIDIA GeForce RTX 3060 Laptop GPU\n"
     ]
    }
   ],
   "source": [
    "import torch\n",
    "print(\"CUDA available:\", torch.cuda.is_available())\n",
    "print(\"Device:\", torch.cuda.get_device_name(0))\n"
   ]
  },
  {
   "cell_type": "code",
   "execution_count": 3,
   "id": "87b7d182-72f9-4824-aff3-37cc70c0e163",
   "metadata": {},
   "outputs": [
    {
     "name": "stdout",
     "output_type": "stream",
     "text": [
      "True\n",
      "NVIDIA GeForce RTX 3060 Laptop GPU\n"
     ]
    }
   ],
   "source": [
    "import torch\n",
    "print(torch.cuda.is_available())\n",
    "print(torch.cuda.get_device_name(0))\n"
   ]
  },
  {
   "cell_type": "code",
   "execution_count": 7,
   "id": "efaf2303-b4de-43cc-b420-0f97405c253f",
   "metadata": {},
   "outputs": [
    {
     "name": "stdout",
     "output_type": "stream",
     "text": [
      "✅ Dataset split and organized into 'train/' and 'valid/' folders.\n"
     ]
    }
   ],
   "source": [
    "import os\n",
    "import random\n",
    "import shutil\n",
    "\n",
    "\n",
    "# Set random seed for reproducibility\n",
    "random.seed(42)\n",
    "\n",
    "image_dir = 'images-all'     # Folder with all 267 images\n",
    "label_dir = 'labels-all'     # Folder with all 267 label files\n",
    "\n",
    "\n",
    "# Destination base\n",
    "base_dest = 'dataset'\n",
    "\n",
    "# Final destination structure\n",
    "dest_dirs = {\n",
    "    'train_images': os.path.join(base_dest, 'train/images'),\n",
    "    'train_labels': os.path.join(base_dest, 'train/labels'),\n",
    "    'val_images': os.path.join(base_dest, 'valid/images'),\n",
    "    'val_labels': os.path.join(base_dest, 'valid/labels'),\n",
    "}\n",
    "\n",
    "# Create the necessary folders\n",
    "for path in dest_dirs.values():\n",
    "    os.makedirs(path, exist_ok=True)\n",
    "\n",
    "# Collect all image filenames\n",
    "image_files = [f for f in os.listdir(image_dir) if f.endswith(('.jpg', '.png'))]\n",
    "\n",
    "# Shuffle\n",
    "random.shuffle(image_files)\n",
    "\n",
    "# Split 80% train / 20% validation\n",
    "split_index = int(0.8 * len(image_files))\n",
    "train_files = image_files[:split_index]\n",
    "val_files = image_files[split_index:]\n",
    "\n",
    "# Function to copy paired image and label files\n",
    "def copy_files(file_list, img_dest, lbl_dest):\n",
    "    for img_file in file_list:\n",
    "        # Get matching label file\n",
    "        base_name = os.path.splitext(img_file)[0]\n",
    "        label_file = base_name + '.txt'\n",
    "\n",
    "        # Full source paths\n",
    "        img_src = os.path.join(image_dir, img_file)\n",
    "        lbl_src = os.path.join(label_dir, label_file)\n",
    "\n",
    "        # Full destination paths\n",
    "        img_dst = os.path.join(img_dest, img_file)\n",
    "        lbl_dst = os.path.join(lbl_dest, label_file)\n",
    "\n",
    "        # Copy files if both exist\n",
    "        if os.path.exists(img_src) and os.path.exists(lbl_src):\n",
    "            shutil.copy(img_src, img_dst)\n",
    "            shutil.copy(lbl_src, lbl_dst)\n",
    "        else:\n",
    "            print(f\"Missing file for {img_file}: image or label not found.\")\n",
    "\n",
    "# Copy to train and validation folders\n",
    "copy_files(train_files, dest_dirs['train_images'], dest_dirs['train_labels'])\n",
    "copy_files(val_files, dest_dirs['val_images'], dest_dirs['val_labels'])\n",
    "\n",
    "print(\"✅ Dataset split and organized into 'train/' and 'valid/' folders.\")\n"
   ]
  },
  {
   "cell_type": "code",
   "execution_count": 1,
   "id": "9f1c32c7-9b00-4811-a69e-fe44ec298bdc",
   "metadata": {},
   "outputs": [
    {
     "name": "stdout",
     "output_type": "stream",
     "text": [
      "New https://pypi.org/project/ultralytics/8.3.132 available  Update with 'pip install -U ultralytics'\n",
      "Ultralytics YOLOv8.2.103  Python-3.11.11 torch-2.6.0+cu124 CUDA:0 (NVIDIA GeForce RTX 3060 Laptop GPU, 6144MiB)\n",
      "\u001b[34m\u001b[1mengine\\trainer: \u001b[0mtask=detect, mode=train, model=yolov8n.pt, data=data.yaml, epochs=30, time=None, patience=100, batch=8, imgsz=640, save=True, save_period=-1, cache=False, device=None, workers=8, project=None, name=yolov8_fine_tuning4, exist_ok=False, pretrained=True, optimizer=auto, verbose=True, seed=0, deterministic=True, single_cls=False, rect=False, cos_lr=False, close_mosaic=10, resume=False, amp=True, fraction=1.0, profile=False, freeze=None, multi_scale=False, overlap_mask=True, mask_ratio=4, dropout=0.0, val=True, split=val, save_json=False, save_hybrid=False, conf=None, iou=0.7, max_det=300, half=False, dnn=False, plots=True, source=None, vid_stride=1, stream_buffer=False, visualize=False, augment=False, agnostic_nms=False, classes=None, retina_masks=False, embed=None, show=False, save_frames=False, save_txt=False, save_conf=False, save_crop=False, show_labels=True, show_conf=True, show_boxes=True, line_width=None, format=torchscript, keras=False, optimize=False, int8=False, dynamic=False, simplify=True, opset=None, workspace=4, nms=False, lr0=0.01, lrf=0.01, momentum=0.937, weight_decay=0.0005, warmup_epochs=0, warmup_momentum=0.8, warmup_bias_lr=0.1, box=7.5, cls=0.5, dfl=1.5, pose=12.0, kobj=1.0, label_smoothing=0.0, nbs=64, hsv_h=0.015, hsv_s=0.7, hsv_v=0.4, degrees=0.0, translate=0.1, scale=0.5, shear=0.0, perspective=0.0, flipud=0.0, fliplr=0.5, bgr=0.0, mosaic=1.0, mixup=0.0, copy_paste=0.0, auto_augment=randaugment, erasing=0.4, crop_fraction=1.0, cfg=None, tracker=botsort.yaml, save_dir=runs\\detect\\yolov8_fine_tuning4\n",
      "Overriding model.yaml nc=80 with nc=1\n",
      "\n",
      "                   from  n    params  module                                       arguments                     \n",
      "  0                  -1  1       464  ultralytics.nn.modules.conv.Conv             [3, 16, 3, 2]                 \n",
      "  1                  -1  1      4672  ultralytics.nn.modules.conv.Conv             [16, 32, 3, 2]                \n",
      "  2                  -1  1      7360  ultralytics.nn.modules.block.C2f             [32, 32, 1, True]             \n",
      "  3                  -1  1     18560  ultralytics.nn.modules.conv.Conv             [32, 64, 3, 2]                \n",
      "  4                  -1  2     49664  ultralytics.nn.modules.block.C2f             [64, 64, 2, True]             \n",
      "  5                  -1  1     73984  ultralytics.nn.modules.conv.Conv             [64, 128, 3, 2]               \n",
      "  6                  -1  2    197632  ultralytics.nn.modules.block.C2f             [128, 128, 2, True]           \n",
      "  7                  -1  1    295424  ultralytics.nn.modules.conv.Conv             [128, 256, 3, 2]              \n",
      "  8                  -1  1    460288  ultralytics.nn.modules.block.C2f             [256, 256, 1, True]           \n",
      "  9                  -1  1    164608  ultralytics.nn.modules.block.SPPF            [256, 256, 5]                 \n",
      " 10                  -1  1         0  torch.nn.modules.upsampling.Upsample         [None, 2, 'nearest']          \n",
      " 11             [-1, 6]  1         0  ultralytics.nn.modules.conv.Concat           [1]                           \n",
      " 12                  -1  1    148224  ultralytics.nn.modules.block.C2f             [384, 128, 1]                 \n",
      " 13                  -1  1         0  torch.nn.modules.upsampling.Upsample         [None, 2, 'nearest']          \n",
      " 14             [-1, 4]  1         0  ultralytics.nn.modules.conv.Concat           [1]                           \n",
      " 15                  -1  1     37248  ultralytics.nn.modules.block.C2f             [192, 64, 1]                  \n",
      " 16                  -1  1     36992  ultralytics.nn.modules.conv.Conv             [64, 64, 3, 2]                \n",
      " 17            [-1, 12]  1         0  ultralytics.nn.modules.conv.Concat           [1]                           \n",
      " 18                  -1  1    123648  ultralytics.nn.modules.block.C2f             [192, 128, 1]                 \n",
      " 19                  -1  1    147712  ultralytics.nn.modules.conv.Conv             [128, 128, 3, 2]              \n",
      " 20             [-1, 9]  1         0  ultralytics.nn.modules.conv.Concat           [1]                           \n",
      " 21                  -1  1    493056  ultralytics.nn.modules.block.C2f             [384, 256, 1]                 \n",
      " 22        [15, 18, 21]  1    751507  ultralytics.nn.modules.head.Detect           [1, [64, 128, 256]]           \n",
      "Model summary: 225 layers, 3,011,043 parameters, 3,011,027 gradients, 8.2 GFLOPs\n",
      "\n",
      "Transferred 319/355 items from pretrained weights\n",
      "Freezing layer 'model.22.dfl.conv.weight'\n",
      "\u001b[34m\u001b[1mAMP: \u001b[0mrunning Automatic Mixed Precision (AMP) checks with YOLOv8n...\n",
      "\u001b[34m\u001b[1mAMP: \u001b[0mchecks passed \n"
     ]
    },
    {
     "name": "stderr",
     "output_type": "stream",
     "text": [
      "\u001b[34m\u001b[1mtrain: \u001b[0mScanning C:\\Users\\mihir\\VectorDetector\\BiggerDataset-Attempt\\dataset\\train\\labels.cache... 232 images, 77 backgrounds, 0 corrupt: 100%|██████████| 232/232 [00:00<?, ?it/s]\n",
      "\u001b[34m\u001b[1mval: \u001b[0mScanning C:\\Users\\mihir\\VectorDetector\\BiggerDataset-Attempt\\dataset\\valid\\labels.cache... 58 images, 17 backgrounds, 0 corrupt: 100%|██████████| 58/58 [00:00<?, ?it/s]\n"
     ]
    },
    {
     "name": "stdout",
     "output_type": "stream",
     "text": [
      "Plotting labels to runs\\detect\\yolov8_fine_tuning4\\labels.jpg... \n",
      "\u001b[34m\u001b[1moptimizer:\u001b[0m 'optimizer=auto' found, ignoring 'lr0=0.01' and 'momentum=0.937' and determining best 'optimizer', 'lr0' and 'momentum' automatically... \n",
      "\u001b[34m\u001b[1moptimizer:\u001b[0m AdamW(lr=0.002, momentum=0.9) with parameter groups 57 weight(decay=0.0), 64 weight(decay=0.0005), 63 bias(decay=0.0)\n",
      "Image sizes 640 train, 640 val\n",
      "Using 8 dataloader workers\n",
      "Logging results to \u001b[1mruns\\detect\\yolov8_fine_tuning4\u001b[0m\n",
      "Starting training for 30 epochs...\n",
      "\n",
      "      Epoch    GPU_mem   box_loss   cls_loss   dfl_loss  Instances       Size\n"
     ]
    },
    {
     "name": "stderr",
     "output_type": "stream",
     "text": [
      "       1/30      1.12G     0.5579      3.509     0.9379         14        640: 100%|██████████| 29/29 [00:06<00:00,  4.66it/s]\n",
      "                 Class     Images  Instances      Box(P          R      mAP50  mAP50-95): 100%|██████████| 4/4 [00:00<00:00,  7.47it/s]"
     ]
    },
    {
     "name": "stdout",
     "output_type": "stream",
     "text": [
      "                   all         58         41    0.00236          1     0.0901     0.0681\n"
     ]
    },
    {
     "name": "stderr",
     "output_type": "stream",
     "text": [
      "\n"
     ]
    },
    {
     "name": "stdout",
     "output_type": "stream",
     "text": [
      "\n",
      "      Epoch    GPU_mem   box_loss   cls_loss   dfl_loss  Instances       Size\n"
     ]
    },
    {
     "name": "stderr",
     "output_type": "stream",
     "text": [
      "       2/30      1.14G      1.323      4.376      1.369         15        640: 100%|██████████| 29/29 [00:02<00:00,  9.95it/s]\n",
      "                 Class     Images  Instances      Box(P          R      mAP50  mAP50-95): 100%|██████████| 4/4 [00:00<00:00,  9.62it/s]"
     ]
    },
    {
     "name": "stdout",
     "output_type": "stream",
     "text": [
      "                   all         58         41     0.0792      0.415     0.0692     0.0198\n"
     ]
    },
    {
     "name": "stderr",
     "output_type": "stream",
     "text": [
      "\n"
     ]
    },
    {
     "name": "stdout",
     "output_type": "stream",
     "text": [
      "\n",
      "      Epoch    GPU_mem   box_loss   cls_loss   dfl_loss  Instances       Size\n"
     ]
    },
    {
     "name": "stderr",
     "output_type": "stream",
     "text": [
      "       3/30      1.18G      1.965      4.733      1.774         14        640: 100%|██████████| 29/29 [00:03<00:00,  9.54it/s]\n",
      "                 Class     Images  Instances      Box(P          R      mAP50  mAP50-95): 100%|██████████| 4/4 [00:00<00:00,  8.70it/s]"
     ]
    },
    {
     "name": "stdout",
     "output_type": "stream",
     "text": [
      "                   all         58         41    0.00236          1    0.00497    0.00242\n"
     ]
    },
    {
     "name": "stderr",
     "output_type": "stream",
     "text": [
      "\n"
     ]
    },
    {
     "name": "stdout",
     "output_type": "stream",
     "text": [
      "\n",
      "      Epoch    GPU_mem   box_loss   cls_loss   dfl_loss  Instances       Size\n"
     ]
    },
    {
     "name": "stderr",
     "output_type": "stream",
     "text": [
      "       4/30      1.14G      1.174      2.936      1.285          9        640: 100%|██████████| 29/29 [00:02<00:00,  9.80it/s]\n",
      "                 Class     Images  Instances      Box(P          R      mAP50  mAP50-95): 100%|██████████| 4/4 [00:00<00:00, 11.79it/s]"
     ]
    },
    {
     "name": "stdout",
     "output_type": "stream",
     "text": [
      "                   all         58         41    0.00868     0.0732    0.00573    0.00316\n"
     ]
    },
    {
     "name": "stderr",
     "output_type": "stream",
     "text": [
      "\n"
     ]
    },
    {
     "name": "stdout",
     "output_type": "stream",
     "text": [
      "\n",
      "      Epoch    GPU_mem   box_loss   cls_loss   dfl_loss  Instances       Size\n"
     ]
    },
    {
     "name": "stderr",
     "output_type": "stream",
     "text": [
      "       5/30      1.18G     0.9796      2.334      1.155         12        640: 100%|██████████| 29/29 [00:02<00:00,  9.86it/s]\n",
      "                 Class     Images  Instances      Box(P          R      mAP50  mAP50-95): 100%|██████████| 4/4 [00:00<00:00, 10.09it/s]"
     ]
    },
    {
     "name": "stdout",
     "output_type": "stream",
     "text": [
      "                   all         58         41      0.883      0.918      0.972      0.788\n"
     ]
    },
    {
     "name": "stderr",
     "output_type": "stream",
     "text": [
      "\n"
     ]
    },
    {
     "name": "stdout",
     "output_type": "stream",
     "text": [
      "\n",
      "      Epoch    GPU_mem   box_loss   cls_loss   dfl_loss  Instances       Size\n"
     ]
    },
    {
     "name": "stderr",
     "output_type": "stream",
     "text": [
      "       6/30      1.18G     0.8135      1.838      1.037          5        640: 100%|██████████| 29/29 [00:02<00:00, 10.48it/s]\n",
      "                 Class     Images  Instances      Box(P          R      mAP50  mAP50-95): 100%|██████████| 4/4 [00:00<00:00, 11.56it/s]"
     ]
    },
    {
     "name": "stdout",
     "output_type": "stream",
     "text": [
      "                   all         58         41      0.975      0.966      0.992       0.84\n"
     ]
    },
    {
     "name": "stderr",
     "output_type": "stream",
     "text": [
      "\n"
     ]
    },
    {
     "name": "stdout",
     "output_type": "stream",
     "text": [
      "\n",
      "      Epoch    GPU_mem   box_loss   cls_loss   dfl_loss  Instances       Size\n"
     ]
    },
    {
     "name": "stderr",
     "output_type": "stream",
     "text": [
      "       7/30      1.18G     0.7016      1.411     0.9867          9        640: 100%|██████████| 29/29 [00:03<00:00,  9.45it/s]\n",
      "                 Class     Images  Instances      Box(P          R      mAP50  mAP50-95): 100%|██████████| 4/4 [00:00<00:00, 11.48it/s]"
     ]
    },
    {
     "name": "stdout",
     "output_type": "stream",
     "text": [
      "                   all         58         41      0.944          1      0.978       0.86\n"
     ]
    },
    {
     "name": "stderr",
     "output_type": "stream",
     "text": [
      "\n"
     ]
    },
    {
     "name": "stdout",
     "output_type": "stream",
     "text": [
      "\n",
      "      Epoch    GPU_mem   box_loss   cls_loss   dfl_loss  Instances       Size\n"
     ]
    },
    {
     "name": "stderr",
     "output_type": "stream",
     "text": [
      "       8/30      1.18G     0.7173      1.415      1.003         14        640: 100%|██████████| 29/29 [00:03<00:00,  9.52it/s]\n",
      "                 Class     Images  Instances      Box(P          R      mAP50  mAP50-95): 100%|██████████| 4/4 [00:00<00:00,  9.87it/s]"
     ]
    },
    {
     "name": "stdout",
     "output_type": "stream",
     "text": [
      "                   all         58         41      0.909          1      0.975      0.843\n"
     ]
    },
    {
     "name": "stderr",
     "output_type": "stream",
     "text": [
      "\n"
     ]
    },
    {
     "name": "stdout",
     "output_type": "stream",
     "text": [
      "\n",
      "      Epoch    GPU_mem   box_loss   cls_loss   dfl_loss  Instances       Size\n"
     ]
    },
    {
     "name": "stderr",
     "output_type": "stream",
     "text": [
      "       9/30      1.18G     0.6716      1.323     0.9754          9        640: 100%|██████████| 29/29 [00:02<00:00, 10.62it/s]\n",
      "                 Class     Images  Instances      Box(P          R      mAP50  mAP50-95): 100%|██████████| 4/4 [00:00<00:00, 12.26it/s]"
     ]
    },
    {
     "name": "stdout",
     "output_type": "stream",
     "text": [
      "                   all         58         41          1      0.991      0.995      0.901\n"
     ]
    },
    {
     "name": "stderr",
     "output_type": "stream",
     "text": [
      "\n"
     ]
    },
    {
     "name": "stdout",
     "output_type": "stream",
     "text": [
      "\n",
      "      Epoch    GPU_mem   box_loss   cls_loss   dfl_loss  Instances       Size\n"
     ]
    },
    {
     "name": "stderr",
     "output_type": "stream",
     "text": [
      "      10/30      1.18G     0.6296      1.205     0.9586          7        640: 100%|██████████| 29/29 [00:02<00:00, 10.10it/s]\n",
      "                 Class     Images  Instances      Box(P          R      mAP50  mAP50-95): 100%|██████████| 4/4 [00:00<00:00, 10.36it/s]"
     ]
    },
    {
     "name": "stdout",
     "output_type": "stream",
     "text": [
      "                   all         58         41      0.934          1      0.982      0.892\n"
     ]
    },
    {
     "name": "stderr",
     "output_type": "stream",
     "text": [
      "\n"
     ]
    },
    {
     "name": "stdout",
     "output_type": "stream",
     "text": [
      "\n",
      "      Epoch    GPU_mem   box_loss   cls_loss   dfl_loss  Instances       Size\n"
     ]
    },
    {
     "name": "stderr",
     "output_type": "stream",
     "text": [
      "      11/30      1.18G     0.6377      1.093     0.9707          8        640: 100%|██████████| 29/29 [00:03<00:00,  9.63it/s]\n",
      "                 Class     Images  Instances      Box(P          R      mAP50  mAP50-95): 100%|██████████| 4/4 [00:00<00:00, 10.49it/s]\n"
     ]
    },
    {
     "name": "stdout",
     "output_type": "stream",
     "text": [
      "                   all         58         41          1      0.999      0.995      0.898\n",
      "\n",
      "      Epoch    GPU_mem   box_loss   cls_loss   dfl_loss  Instances       Size\n"
     ]
    },
    {
     "name": "stderr",
     "output_type": "stream",
     "text": [
      "      12/30      1.18G     0.5966      1.016     0.9254         12        640: 100%|██████████| 29/29 [00:02<00:00, 10.26it/s]\n",
      "                 Class     Images  Instances      Box(P          R      mAP50  mAP50-95): 100%|██████████| 4/4 [00:00<00:00, 12.31it/s]"
     ]
    },
    {
     "name": "stdout",
     "output_type": "stream",
     "text": [
      "                   all         58         41      0.972          1      0.995      0.908\n"
     ]
    },
    {
     "name": "stderr",
     "output_type": "stream",
     "text": [
      "\n"
     ]
    },
    {
     "name": "stdout",
     "output_type": "stream",
     "text": [
      "\n",
      "      Epoch    GPU_mem   box_loss   cls_loss   dfl_loss  Instances       Size\n"
     ]
    },
    {
     "name": "stderr",
     "output_type": "stream",
     "text": [
      "      13/30      1.18G     0.5709      1.006     0.9305         12        640: 100%|██████████| 29/29 [00:02<00:00,  9.95it/s]\n",
      "                 Class     Images  Instances      Box(P          R      mAP50  mAP50-95): 100%|██████████| 4/4 [00:00<00:00, 11.25it/s]"
     ]
    },
    {
     "name": "stdout",
     "output_type": "stream",
     "text": [
      "                   all         58         41      0.998          1      0.995       0.92\n"
     ]
    },
    {
     "name": "stderr",
     "output_type": "stream",
     "text": [
      "\n"
     ]
    },
    {
     "name": "stdout",
     "output_type": "stream",
     "text": [
      "\n",
      "      Epoch    GPU_mem   box_loss   cls_loss   dfl_loss  Instances       Size\n"
     ]
    },
    {
     "name": "stderr",
     "output_type": "stream",
     "text": [
      "      14/30      1.18G     0.5463     0.8922      0.929         13        640: 100%|██████████| 29/29 [00:02<00:00, 10.35it/s]\n",
      "                 Class     Images  Instances      Box(P          R      mAP50  mAP50-95): 100%|██████████| 4/4 [00:00<00:00, 11.68it/s]\n"
     ]
    },
    {
     "name": "stdout",
     "output_type": "stream",
     "text": [
      "                   all         58         41      0.997          1      0.995      0.917\n",
      "\n",
      "      Epoch    GPU_mem   box_loss   cls_loss   dfl_loss  Instances       Size\n"
     ]
    },
    {
     "name": "stderr",
     "output_type": "stream",
     "text": [
      "      15/30      1.18G     0.5216     0.8502     0.9274          8        640: 100%|██████████| 29/29 [00:02<00:00,  9.93it/s]\n",
      "                 Class     Images  Instances      Box(P          R      mAP50  mAP50-95): 100%|██████████| 4/4 [00:00<00:00, 11.81it/s]"
     ]
    },
    {
     "name": "stdout",
     "output_type": "stream",
     "text": [
      "                   all         58         41      0.998          1      0.995      0.914\n"
     ]
    },
    {
     "name": "stderr",
     "output_type": "stream",
     "text": [
      "\n"
     ]
    },
    {
     "name": "stdout",
     "output_type": "stream",
     "text": [
      "\n",
      "      Epoch    GPU_mem   box_loss   cls_loss   dfl_loss  Instances       Size\n"
     ]
    },
    {
     "name": "stderr",
     "output_type": "stream",
     "text": [
      "      16/30      1.18G     0.5161     0.8258     0.9021         17        640: 100%|██████████| 29/29 [00:03<00:00,  9.54it/s]\n",
      "                 Class     Images  Instances      Box(P          R      mAP50  mAP50-95): 100%|██████████| 4/4 [00:00<00:00, 11.29it/s]"
     ]
    },
    {
     "name": "stdout",
     "output_type": "stream",
     "text": [
      "                   all         58         41      0.998          1      0.995      0.935\n"
     ]
    },
    {
     "name": "stderr",
     "output_type": "stream",
     "text": [
      "\n"
     ]
    },
    {
     "name": "stdout",
     "output_type": "stream",
     "text": [
      "\n",
      "      Epoch    GPU_mem   box_loss   cls_loss   dfl_loss  Instances       Size\n"
     ]
    },
    {
     "name": "stderr",
     "output_type": "stream",
     "text": [
      "      17/30      1.18G     0.5145      0.758     0.9027         12        640: 100%|██████████| 29/29 [00:02<00:00, 10.91it/s]\n",
      "                 Class     Images  Instances      Box(P          R      mAP50  mAP50-95): 100%|██████████| 4/4 [00:00<00:00, 12.23it/s]\n"
     ]
    },
    {
     "name": "stdout",
     "output_type": "stream",
     "text": [
      "                   all         58         41      0.999          1      0.995      0.954\n",
      "\n",
      "      Epoch    GPU_mem   box_loss   cls_loss   dfl_loss  Instances       Size\n"
     ]
    },
    {
     "name": "stderr",
     "output_type": "stream",
     "text": [
      "      18/30      1.18G      0.488     0.7771     0.8897          8        640: 100%|██████████| 29/29 [00:02<00:00, 10.34it/s]\n",
      "                 Class     Images  Instances      Box(P          R      mAP50  mAP50-95): 100%|██████████| 4/4 [00:00<00:00, 10.85it/s]\n"
     ]
    },
    {
     "name": "stdout",
     "output_type": "stream",
     "text": [
      "                   all         58         41      0.998          1      0.995      0.945\n",
      "\n",
      "      Epoch    GPU_mem   box_loss   cls_loss   dfl_loss  Instances       Size\n"
     ]
    },
    {
     "name": "stderr",
     "output_type": "stream",
     "text": [
      "      19/30      1.18G     0.4875     0.7686      0.909          5        640: 100%|██████████| 29/29 [00:02<00:00,  9.70it/s]\n",
      "                 Class     Images  Instances      Box(P          R      mAP50  mAP50-95): 100%|██████████| 4/4 [00:00<00:00, 10.40it/s]"
     ]
    },
    {
     "name": "stdout",
     "output_type": "stream",
     "text": [
      "                   all         58         41      0.998          1      0.995      0.941\n"
     ]
    },
    {
     "name": "stderr",
     "output_type": "stream",
     "text": [
      "\n"
     ]
    },
    {
     "name": "stdout",
     "output_type": "stream",
     "text": [
      "\n",
      "      Epoch    GPU_mem   box_loss   cls_loss   dfl_loss  Instances       Size\n"
     ]
    },
    {
     "name": "stderr",
     "output_type": "stream",
     "text": [
      "      20/30      1.18G     0.4931     0.7204      0.914          7        640: 100%|██████████| 29/29 [00:03<00:00,  9.02it/s]\n",
      "                 Class     Images  Instances      Box(P          R      mAP50  mAP50-95): 100%|██████████| 4/4 [00:00<00:00, 10.67it/s]"
     ]
    },
    {
     "name": "stdout",
     "output_type": "stream",
     "text": [
      "                   all         58         41      0.999          1      0.995      0.948\n"
     ]
    },
    {
     "name": "stderr",
     "output_type": "stream",
     "text": [
      "\n"
     ]
    },
    {
     "name": "stdout",
     "output_type": "stream",
     "text": [
      "Closing dataloader mosaic\n",
      "\n",
      "      Epoch    GPU_mem   box_loss   cls_loss   dfl_loss  Instances       Size\n"
     ]
    },
    {
     "name": "stderr",
     "output_type": "stream",
     "text": [
      "      21/30      1.17G     0.3904     0.8644     0.8127          4        640: 100%|██████████| 29/29 [00:03<00:00,  9.06it/s]\n",
      "                 Class     Images  Instances      Box(P          R      mAP50  mAP50-95): 100%|██████████| 4/4 [00:00<00:00, 10.40it/s]"
     ]
    },
    {
     "name": "stdout",
     "output_type": "stream",
     "text": [
      "                   all         58         41      0.998          1      0.995      0.951\n"
     ]
    },
    {
     "name": "stderr",
     "output_type": "stream",
     "text": [
      "\n"
     ]
    },
    {
     "name": "stdout",
     "output_type": "stream",
     "text": [
      "\n",
      "      Epoch    GPU_mem   box_loss   cls_loss   dfl_loss  Instances       Size\n"
     ]
    },
    {
     "name": "stderr",
     "output_type": "stream",
     "text": [
      "      22/30      1.17G     0.4034     0.8426     0.8247          5        640: 100%|██████████| 29/29 [00:02<00:00, 11.07it/s]\n",
      "                 Class     Images  Instances      Box(P          R      mAP50  mAP50-95): 100%|██████████| 4/4 [00:00<00:00, 12.59it/s]"
     ]
    },
    {
     "name": "stdout",
     "output_type": "stream",
     "text": [
      "                   all         58         41      0.999          1      0.995      0.972\n"
     ]
    },
    {
     "name": "stderr",
     "output_type": "stream",
     "text": [
      "\n"
     ]
    },
    {
     "name": "stdout",
     "output_type": "stream",
     "text": [
      "\n",
      "      Epoch    GPU_mem   box_loss   cls_loss   dfl_loss  Instances       Size\n"
     ]
    },
    {
     "name": "stderr",
     "output_type": "stream",
     "text": [
      "      23/30      1.17G      0.395     0.7658     0.8375          5        640: 100%|██████████| 29/29 [00:02<00:00, 11.14it/s]\n",
      "                 Class     Images  Instances      Box(P          R      mAP50  mAP50-95): 100%|██████████| 4/4 [00:00<00:00, 11.70it/s]"
     ]
    },
    {
     "name": "stdout",
     "output_type": "stream",
     "text": [
      "                   all         58         41      0.999          1      0.995      0.949\n"
     ]
    },
    {
     "name": "stderr",
     "output_type": "stream",
     "text": [
      "\n"
     ]
    },
    {
     "name": "stdout",
     "output_type": "stream",
     "text": [
      "\n",
      "      Epoch    GPU_mem   box_loss   cls_loss   dfl_loss  Instances       Size\n"
     ]
    },
    {
     "name": "stderr",
     "output_type": "stream",
     "text": [
      "      24/30      1.17G     0.3855     0.7497     0.8462          5        640: 100%|██████████| 29/29 [00:02<00:00, 11.12it/s]\n",
      "                 Class     Images  Instances      Box(P          R      mAP50  mAP50-95): 100%|██████████| 4/4 [00:00<00:00, 12.12it/s]\n"
     ]
    },
    {
     "name": "stdout",
     "output_type": "stream",
     "text": [
      "                   all         58         41      0.999          1      0.995      0.959\n",
      "\n",
      "      Epoch    GPU_mem   box_loss   cls_loss   dfl_loss  Instances       Size\n"
     ]
    },
    {
     "name": "stderr",
     "output_type": "stream",
     "text": [
      "      25/30      1.18G     0.3786     0.7087     0.8211          6        640: 100%|██████████| 29/29 [00:02<00:00, 10.49it/s]\n",
      "                 Class     Images  Instances      Box(P          R      mAP50  mAP50-95): 100%|██████████| 4/4 [00:00<00:00, 12.34it/s]"
     ]
    },
    {
     "name": "stdout",
     "output_type": "stream",
     "text": [
      "                   all         58         41      0.999          1      0.995      0.968\n"
     ]
    },
    {
     "name": "stderr",
     "output_type": "stream",
     "text": [
      "\n"
     ]
    },
    {
     "name": "stdout",
     "output_type": "stream",
     "text": [
      "\n",
      "      Epoch    GPU_mem   box_loss   cls_loss   dfl_loss  Instances       Size\n"
     ]
    },
    {
     "name": "stderr",
     "output_type": "stream",
     "text": [
      "      26/30      1.17G     0.3838     0.7245     0.8312          5        640: 100%|██████████| 29/29 [00:02<00:00, 11.01it/s]\n",
      "                 Class     Images  Instances      Box(P          R      mAP50  mAP50-95): 100%|██████████| 4/4 [00:00<00:00, 12.73it/s]"
     ]
    },
    {
     "name": "stdout",
     "output_type": "stream",
     "text": [
      "                   all         58         41      0.999          1      0.995      0.966\n"
     ]
    },
    {
     "name": "stderr",
     "output_type": "stream",
     "text": [
      "\n"
     ]
    },
    {
     "name": "stdout",
     "output_type": "stream",
     "text": [
      "\n",
      "      Epoch    GPU_mem   box_loss   cls_loss   dfl_loss  Instances       Size\n"
     ]
    },
    {
     "name": "stderr",
     "output_type": "stream",
     "text": [
      "      27/30      1.17G     0.3612     0.6789     0.8243          6        640: 100%|██████████| 29/29 [00:02<00:00, 11.38it/s]\n",
      "                 Class     Images  Instances      Box(P          R      mAP50  mAP50-95): 100%|██████████| 4/4 [00:00<00:00, 12.84it/s]"
     ]
    },
    {
     "name": "stdout",
     "output_type": "stream",
     "text": [
      "                   all         58         41      0.999          1      0.995      0.965\n"
     ]
    },
    {
     "name": "stderr",
     "output_type": "stream",
     "text": [
      "\n"
     ]
    },
    {
     "name": "stdout",
     "output_type": "stream",
     "text": [
      "\n",
      "      Epoch    GPU_mem   box_loss   cls_loss   dfl_loss  Instances       Size\n"
     ]
    },
    {
     "name": "stderr",
     "output_type": "stream",
     "text": [
      "      28/30      1.17G     0.3651     0.6617     0.8362          5        640: 100%|██████████| 29/29 [00:02<00:00, 10.78it/s]\n",
      "                 Class     Images  Instances      Box(P          R      mAP50  mAP50-95): 100%|██████████| 4/4 [00:00<00:00, 11.17it/s]"
     ]
    },
    {
     "name": "stdout",
     "output_type": "stream",
     "text": [
      "                   all         58         41      0.998          1      0.995      0.958\n"
     ]
    },
    {
     "name": "stderr",
     "output_type": "stream",
     "text": [
      "\n"
     ]
    },
    {
     "name": "stdout",
     "output_type": "stream",
     "text": [
      "\n",
      "      Epoch    GPU_mem   box_loss   cls_loss   dfl_loss  Instances       Size\n"
     ]
    },
    {
     "name": "stderr",
     "output_type": "stream",
     "text": [
      "      29/30      1.17G     0.3301     0.6649     0.8141          5        640: 100%|██████████| 29/29 [00:02<00:00, 10.91it/s]\n",
      "                 Class     Images  Instances      Box(P          R      mAP50  mAP50-95): 100%|██████████| 4/4 [00:00<00:00, 12.47it/s]"
     ]
    },
    {
     "name": "stdout",
     "output_type": "stream",
     "text": [
      "                   all         58         41      0.999          1      0.995      0.959\n"
     ]
    },
    {
     "name": "stderr",
     "output_type": "stream",
     "text": [
      "\n"
     ]
    },
    {
     "name": "stdout",
     "output_type": "stream",
     "text": [
      "\n",
      "      Epoch    GPU_mem   box_loss   cls_loss   dfl_loss  Instances       Size\n"
     ]
    },
    {
     "name": "stderr",
     "output_type": "stream",
     "text": [
      "      30/30      1.17G      0.337     0.6488     0.8292          7        640: 100%|██████████| 29/29 [00:02<00:00, 10.14it/s]\n",
      "                 Class     Images  Instances      Box(P          R      mAP50  mAP50-95): 100%|██████████| 4/4 [00:00<00:00, 11.09it/s]"
     ]
    },
    {
     "name": "stdout",
     "output_type": "stream",
     "text": [
      "                   all         58         41      0.999          1      0.995      0.963\n"
     ]
    },
    {
     "name": "stderr",
     "output_type": "stream",
     "text": [
      "\n"
     ]
    },
    {
     "name": "stdout",
     "output_type": "stream",
     "text": [
      "\n",
      "30 epochs completed in 0.044 hours.\n",
      "Optimizer stripped from runs\\detect\\yolov8_fine_tuning4\\weights\\last.pt, 6.2MB\n",
      "Optimizer stripped from runs\\detect\\yolov8_fine_tuning4\\weights\\best.pt, 6.2MB\n",
      "\n",
      "Validating runs\\detect\\yolov8_fine_tuning4\\weights\\best.pt...\n",
      "Ultralytics YOLOv8.2.103  Python-3.11.11 torch-2.6.0+cu124 CUDA:0 (NVIDIA GeForce RTX 3060 Laptop GPU, 6144MiB)\n",
      "Model summary (fused): 168 layers, 3,005,843 parameters, 0 gradients, 8.1 GFLOPs\n"
     ]
    },
    {
     "name": "stderr",
     "output_type": "stream",
     "text": [
      "                 Class     Images  Instances      Box(P          R      mAP50  mAP50-95): 100%|██████████| 4/4 [00:00<00:00,  7.57it/s]\n"
     ]
    },
    {
     "name": "stdout",
     "output_type": "stream",
     "text": [
      "                   all         58         41      0.999          1      0.995      0.967\n",
      "Speed: 0.4ms preprocess, 1.6ms inference, 0.0ms loss, 1.4ms postprocess per image\n",
      "Results saved to \u001b[1mruns\\detect\\yolov8_fine_tuning4\u001b[0m\n"
     ]
    }
   ],
   "source": [
    "from ultralytics import YOLO \n",
    "\n",
    "# Load the Model\n",
    "model = YOLO(\"yolov8n.pt\")  #using nano\n",
    "\n",
    "#Train\n",
    "results = model.train(\n",
    "    data='data.yaml',\n",
    "    imgsz=640,           # Match your image width, or try keeping 640x480 aspect\n",
    "    epochs=30,\n",
    "    batch=8,             # Reduce for small dataset + to fit in GPU memory\n",
    "    name='yolov8_fine_tuning',\n",
    "    warmup_epochs=0,  \n",
    "    cache=False\n",
    ")\n"
   ]
  },
  {
   "cell_type": "code",
   "execution_count": 3,
   "id": "91245fa8-fca8-417b-82c8-ddea73592025",
   "metadata": {},
   "outputs": [
    {
     "name": "stdout",
     "output_type": "stream",
     "text": [
      "\n",
      "\n",
      "WARNING  inference results will accumulate in RAM unless `stream=True` is passed, causing potential out-of-memory\n",
      "errors for large sources or long-running streams and videos. See https://docs.ultralytics.com/modes/predict/ for help.\n",
      "\n",
      "Example:\n",
      "    results = model(source=..., stream=True)  # generator of Results objects\n",
      "    for r in results:\n",
      "        boxes = r.boxes  # Boxes object for bbox outputs\n",
      "        masks = r.masks  # Masks object for segment masks outputs\n",
      "        probs = r.probs  # Class probabilities for classification outputs\n",
      "\n",
      "video 1/1 (frame 1/150) C:\\Users\\mihir\\VectorDetector\\BiggerDataset-Attempt\\vector_video.avi: 640x640 1 vector, 27.5ms\n",
      "video 1/1 (frame 2/150) C:\\Users\\mihir\\VectorDetector\\BiggerDataset-Attempt\\vector_video.avi: 640x640 1 vector, 55.1ms\n",
      "video 1/1 (frame 3/150) C:\\Users\\mihir\\VectorDetector\\BiggerDataset-Attempt\\vector_video.avi: 640x640 (no detections), 81.6ms\n",
      "video 1/1 (frame 4/150) C:\\Users\\mihir\\VectorDetector\\BiggerDataset-Attempt\\vector_video.avi: 640x640 (no detections), 10.1ms\n",
      "video 1/1 (frame 5/150) C:\\Users\\mihir\\VectorDetector\\BiggerDataset-Attempt\\vector_video.avi: 640x640 (no detections), 9.5ms\n",
      "video 1/1 (frame 6/150) C:\\Users\\mihir\\VectorDetector\\BiggerDataset-Attempt\\vector_video.avi: 640x640 1 vector, 12.5ms\n",
      "video 1/1 (frame 7/150) C:\\Users\\mihir\\VectorDetector\\BiggerDataset-Attempt\\vector_video.avi: 640x640 1 vector, 10.2ms\n",
      "video 1/1 (frame 8/150) C:\\Users\\mihir\\VectorDetector\\BiggerDataset-Attempt\\vector_video.avi: 640x640 1 vector, 10.6ms\n",
      "video 1/1 (frame 9/150) C:\\Users\\mihir\\VectorDetector\\BiggerDataset-Attempt\\vector_video.avi: 640x640 1 vector, 10.7ms\n",
      "video 1/1 (frame 10/150) C:\\Users\\mihir\\VectorDetector\\BiggerDataset-Attempt\\vector_video.avi: 640x640 1 vector, 9.0ms\n",
      "video 1/1 (frame 11/150) C:\\Users\\mihir\\VectorDetector\\BiggerDataset-Attempt\\vector_video.avi: 640x640 (no detections), 10.5ms\n",
      "video 1/1 (frame 12/150) C:\\Users\\mihir\\VectorDetector\\BiggerDataset-Attempt\\vector_video.avi: 640x640 (no detections), 10.1ms\n",
      "video 1/1 (frame 13/150) C:\\Users\\mihir\\VectorDetector\\BiggerDataset-Attempt\\vector_video.avi: 640x640 (no detections), 11.5ms\n",
      "video 1/1 (frame 14/150) C:\\Users\\mihir\\VectorDetector\\BiggerDataset-Attempt\\vector_video.avi: 640x640 (no detections), 10.5ms\n",
      "video 1/1 (frame 15/150) C:\\Users\\mihir\\VectorDetector\\BiggerDataset-Attempt\\vector_video.avi: 640x640 (no detections), 9.5ms\n",
      "video 1/1 (frame 16/150) C:\\Users\\mihir\\VectorDetector\\BiggerDataset-Attempt\\vector_video.avi: 640x640 (no detections), 9.1ms\n",
      "video 1/1 (frame 17/150) C:\\Users\\mihir\\VectorDetector\\BiggerDataset-Attempt\\vector_video.avi: 640x640 (no detections), 9.0ms\n",
      "video 1/1 (frame 18/150) C:\\Users\\mihir\\VectorDetector\\BiggerDataset-Attempt\\vector_video.avi: 640x640 (no detections), 18.5ms\n",
      "video 1/1 (frame 19/150) C:\\Users\\mihir\\VectorDetector\\BiggerDataset-Attempt\\vector_video.avi: 640x640 (no detections), 9.5ms\n",
      "video 1/1 (frame 20/150) C:\\Users\\mihir\\VectorDetector\\BiggerDataset-Attempt\\vector_video.avi: 640x640 (no detections), 9.0ms\n",
      "video 1/1 (frame 21/150) C:\\Users\\mihir\\VectorDetector\\BiggerDataset-Attempt\\vector_video.avi: 640x640 (no detections), 9.0ms\n",
      "video 1/1 (frame 22/150) C:\\Users\\mihir\\VectorDetector\\BiggerDataset-Attempt\\vector_video.avi: 640x640 (no detections), 10.0ms\n",
      "video 1/1 (frame 23/150) C:\\Users\\mihir\\VectorDetector\\BiggerDataset-Attempt\\vector_video.avi: 640x640 (no detections), 9.5ms\n",
      "video 1/1 (frame 24/150) C:\\Users\\mihir\\VectorDetector\\BiggerDataset-Attempt\\vector_video.avi: 640x640 (no detections), 9.0ms\n",
      "video 1/1 (frame 25/150) C:\\Users\\mihir\\VectorDetector\\BiggerDataset-Attempt\\vector_video.avi: 640x640 (no detections), 9.5ms\n",
      "video 1/1 (frame 26/150) C:\\Users\\mihir\\VectorDetector\\BiggerDataset-Attempt\\vector_video.avi: 640x640 (no detections), 10.5ms\n",
      "video 1/1 (frame 27/150) C:\\Users\\mihir\\VectorDetector\\BiggerDataset-Attempt\\vector_video.avi: 640x640 (no detections), 9.5ms\n",
      "video 1/1 (frame 28/150) C:\\Users\\mihir\\VectorDetector\\BiggerDataset-Attempt\\vector_video.avi: 640x640 (no detections), 10.5ms\n",
      "video 1/1 (frame 29/150) C:\\Users\\mihir\\VectorDetector\\BiggerDataset-Attempt\\vector_video.avi: 640x640 (no detections), 8.5ms\n",
      "video 1/1 (frame 30/150) C:\\Users\\mihir\\VectorDetector\\BiggerDataset-Attempt\\vector_video.avi: 640x640 (no detections), 9.5ms\n",
      "video 1/1 (frame 31/150) C:\\Users\\mihir\\VectorDetector\\BiggerDataset-Attempt\\vector_video.avi: 640x640 (no detections), 10.2ms\n",
      "video 1/1 (frame 32/150) C:\\Users\\mihir\\VectorDetector\\BiggerDataset-Attempt\\vector_video.avi: 640x640 (no detections), 8.5ms\n",
      "video 1/1 (frame 33/150) C:\\Users\\mihir\\VectorDetector\\BiggerDataset-Attempt\\vector_video.avi: 640x640 (no detections), 8.5ms\n",
      "video 1/1 (frame 34/150) C:\\Users\\mihir\\VectorDetector\\BiggerDataset-Attempt\\vector_video.avi: 640x640 (no detections), 9.0ms\n",
      "video 1/1 (frame 35/150) C:\\Users\\mihir\\VectorDetector\\BiggerDataset-Attempt\\vector_video.avi: 640x640 (no detections), 9.5ms\n",
      "video 1/1 (frame 36/150) C:\\Users\\mihir\\VectorDetector\\BiggerDataset-Attempt\\vector_video.avi: 640x640 (no detections), 9.0ms\n",
      "video 1/1 (frame 37/150) C:\\Users\\mihir\\VectorDetector\\BiggerDataset-Attempt\\vector_video.avi: 640x640 (no detections), 9.0ms\n",
      "video 1/1 (frame 38/150) C:\\Users\\mihir\\VectorDetector\\BiggerDataset-Attempt\\vector_video.avi: 640x640 (no detections), 10.1ms\n",
      "video 1/1 (frame 39/150) C:\\Users\\mihir\\VectorDetector\\BiggerDataset-Attempt\\vector_video.avi: 640x640 (no detections), 9.5ms\n",
      "video 1/1 (frame 40/150) C:\\Users\\mihir\\VectorDetector\\BiggerDataset-Attempt\\vector_video.avi: 640x640 (no detections), 9.1ms\n",
      "video 1/1 (frame 41/150) C:\\Users\\mihir\\VectorDetector\\BiggerDataset-Attempt\\vector_video.avi: 640x640 (no detections), 9.5ms\n",
      "video 1/1 (frame 42/150) C:\\Users\\mihir\\VectorDetector\\BiggerDataset-Attempt\\vector_video.avi: 640x640 (no detections), 9.2ms\n",
      "video 1/1 (frame 43/150) C:\\Users\\mihir\\VectorDetector\\BiggerDataset-Attempt\\vector_video.avi: 640x640 (no detections), 9.5ms\n",
      "video 1/1 (frame 44/150) C:\\Users\\mihir\\VectorDetector\\BiggerDataset-Attempt\\vector_video.avi: 640x640 (no detections), 9.5ms\n",
      "video 1/1 (frame 45/150) C:\\Users\\mihir\\VectorDetector\\BiggerDataset-Attempt\\vector_video.avi: 640x640 (no detections), 10.1ms\n",
      "video 1/1 (frame 46/150) C:\\Users\\mihir\\VectorDetector\\BiggerDataset-Attempt\\vector_video.avi: 640x640 (no detections), 9.5ms\n",
      "video 1/1 (frame 47/150) C:\\Users\\mihir\\VectorDetector\\BiggerDataset-Attempt\\vector_video.avi: 640x640 (no detections), 19.0ms\n",
      "video 1/1 (frame 48/150) C:\\Users\\mihir\\VectorDetector\\BiggerDataset-Attempt\\vector_video.avi: 640x640 (no detections), 10.6ms\n",
      "video 1/1 (frame 49/150) C:\\Users\\mihir\\VectorDetector\\BiggerDataset-Attempt\\vector_video.avi: 640x640 (no detections), 9.2ms\n",
      "video 1/1 (frame 50/150) C:\\Users\\mihir\\VectorDetector\\BiggerDataset-Attempt\\vector_video.avi: 640x640 (no detections), 10.0ms\n",
      "video 1/1 (frame 51/150) C:\\Users\\mihir\\VectorDetector\\BiggerDataset-Attempt\\vector_video.avi: 640x640 (no detections), 9.5ms\n",
      "video 1/1 (frame 52/150) C:\\Users\\mihir\\VectorDetector\\BiggerDataset-Attempt\\vector_video.avi: 640x640 (no detections), 9.5ms\n",
      "video 1/1 (frame 53/150) C:\\Users\\mihir\\VectorDetector\\BiggerDataset-Attempt\\vector_video.avi: 640x640 (no detections), 9.5ms\n",
      "video 1/1 (frame 54/150) C:\\Users\\mihir\\VectorDetector\\BiggerDataset-Attempt\\vector_video.avi: 640x640 (no detections), 9.5ms\n",
      "video 1/1 (frame 55/150) C:\\Users\\mihir\\VectorDetector\\BiggerDataset-Attempt\\vector_video.avi: 640x640 (no detections), 9.5ms\n",
      "video 1/1 (frame 56/150) C:\\Users\\mihir\\VectorDetector\\BiggerDataset-Attempt\\vector_video.avi: 640x640 (no detections), 9.1ms\n",
      "video 1/1 (frame 57/150) C:\\Users\\mihir\\VectorDetector\\BiggerDataset-Attempt\\vector_video.avi: 640x640 (no detections), 9.5ms\n",
      "video 1/1 (frame 58/150) C:\\Users\\mihir\\VectorDetector\\BiggerDataset-Attempt\\vector_video.avi: 640x640 (no detections), 9.5ms\n",
      "video 1/1 (frame 59/150) C:\\Users\\mihir\\VectorDetector\\BiggerDataset-Attempt\\vector_video.avi: 640x640 (no detections), 9.5ms\n",
      "video 1/1 (frame 60/150) C:\\Users\\mihir\\VectorDetector\\BiggerDataset-Attempt\\vector_video.avi: 640x640 (no detections), 9.6ms\n",
      "video 1/1 (frame 61/150) C:\\Users\\mihir\\VectorDetector\\BiggerDataset-Attempt\\vector_video.avi: 640x640 (no detections), 9.5ms\n",
      "video 1/1 (frame 62/150) C:\\Users\\mihir\\VectorDetector\\BiggerDataset-Attempt\\vector_video.avi: 640x640 (no detections), 9.6ms\n",
      "video 1/1 (frame 63/150) C:\\Users\\mihir\\VectorDetector\\BiggerDataset-Attempt\\vector_video.avi: 640x640 (no detections), 9.5ms\n",
      "video 1/1 (frame 64/150) C:\\Users\\mihir\\VectorDetector\\BiggerDataset-Attempt\\vector_video.avi: 640x640 (no detections), 10.3ms\n",
      "video 1/1 (frame 65/150) C:\\Users\\mihir\\VectorDetector\\BiggerDataset-Attempt\\vector_video.avi: 640x640 (no detections), 9.5ms\n",
      "video 1/1 (frame 66/150) C:\\Users\\mihir\\VectorDetector\\BiggerDataset-Attempt\\vector_video.avi: 640x640 (no detections), 9.5ms\n",
      "video 1/1 (frame 67/150) C:\\Users\\mihir\\VectorDetector\\BiggerDataset-Attempt\\vector_video.avi: 640x640 (no detections), 9.5ms\n",
      "video 1/1 (frame 68/150) C:\\Users\\mihir\\VectorDetector\\BiggerDataset-Attempt\\vector_video.avi: 640x640 (no detections), 9.5ms\n",
      "video 1/1 (frame 69/150) C:\\Users\\mihir\\VectorDetector\\BiggerDataset-Attempt\\vector_video.avi: 640x640 (no detections), 9.5ms\n",
      "video 1/1 (frame 70/150) C:\\Users\\mihir\\VectorDetector\\BiggerDataset-Attempt\\vector_video.avi: 640x640 (no detections), 10.3ms\n",
      "video 1/1 (frame 71/150) C:\\Users\\mihir\\VectorDetector\\BiggerDataset-Attempt\\vector_video.avi: 640x640 (no detections), 9.4ms\n",
      "video 1/1 (frame 72/150) C:\\Users\\mihir\\VectorDetector\\BiggerDataset-Attempt\\vector_video.avi: 640x640 (no detections), 9.5ms\n",
      "video 1/1 (frame 73/150) C:\\Users\\mihir\\VectorDetector\\BiggerDataset-Attempt\\vector_video.avi: 640x640 (no detections), 9.5ms\n",
      "video 1/1 (frame 74/150) C:\\Users\\mihir\\VectorDetector\\BiggerDataset-Attempt\\vector_video.avi: 640x640 (no detections), 9.0ms\n",
      "video 1/1 (frame 75/150) C:\\Users\\mihir\\VectorDetector\\BiggerDataset-Attempt\\vector_video.avi: 640x640 (no detections), 9.5ms\n",
      "video 1/1 (frame 76/150) C:\\Users\\mihir\\VectorDetector\\BiggerDataset-Attempt\\vector_video.avi: 640x640 (no detections), 10.0ms\n",
      "video 1/1 (frame 77/150) C:\\Users\\mihir\\VectorDetector\\BiggerDataset-Attempt\\vector_video.avi: 640x640 (no detections), 9.5ms\n",
      "video 1/1 (frame 78/150) C:\\Users\\mihir\\VectorDetector\\BiggerDataset-Attempt\\vector_video.avi: 640x640 (no detections), 8.5ms\n",
      "video 1/1 (frame 79/150) C:\\Users\\mihir\\VectorDetector\\BiggerDataset-Attempt\\vector_video.avi: 640x640 (no detections), 9.5ms\n",
      "video 1/1 (frame 80/150) C:\\Users\\mihir\\VectorDetector\\BiggerDataset-Attempt\\vector_video.avi: 640x640 (no detections), 9.5ms\n",
      "video 1/1 (frame 81/150) C:\\Users\\mihir\\VectorDetector\\BiggerDataset-Attempt\\vector_video.avi: 640x640 (no detections), 10.5ms\n",
      "video 1/1 (frame 82/150) C:\\Users\\mihir\\VectorDetector\\BiggerDataset-Attempt\\vector_video.avi: 640x640 (no detections), 16.5ms\n",
      "video 1/1 (frame 83/150) C:\\Users\\mihir\\VectorDetector\\BiggerDataset-Attempt\\vector_video.avi: 640x640 (no detections), 12.5ms\n",
      "video 1/1 (frame 84/150) C:\\Users\\mihir\\VectorDetector\\BiggerDataset-Attempt\\vector_video.avi: 640x640 (no detections), 11.2ms\n",
      "video 1/1 (frame 85/150) C:\\Users\\mihir\\VectorDetector\\BiggerDataset-Attempt\\vector_video.avi: 640x640 (no detections), 17.5ms\n",
      "video 1/1 (frame 86/150) C:\\Users\\mihir\\VectorDetector\\BiggerDataset-Attempt\\vector_video.avi: 640x640 (no detections), 9.6ms\n",
      "video 1/1 (frame 87/150) C:\\Users\\mihir\\VectorDetector\\BiggerDataset-Attempt\\vector_video.avi: 640x640 (no detections), 9.5ms\n",
      "video 1/1 (frame 88/150) C:\\Users\\mihir\\VectorDetector\\BiggerDataset-Attempt\\vector_video.avi: 640x640 (no detections), 9.5ms\n",
      "video 1/1 (frame 89/150) C:\\Users\\mihir\\VectorDetector\\BiggerDataset-Attempt\\vector_video.avi: 640x640 1 vector, 9.3ms\n",
      "video 1/1 (frame 90/150) C:\\Users\\mihir\\VectorDetector\\BiggerDataset-Attempt\\vector_video.avi: 640x640 1 vector, 9.5ms\n",
      "video 1/1 (frame 91/150) C:\\Users\\mihir\\VectorDetector\\BiggerDataset-Attempt\\vector_video.avi: 640x640 1 vector, 9.5ms\n",
      "video 1/1 (frame 92/150) C:\\Users\\mihir\\VectorDetector\\BiggerDataset-Attempt\\vector_video.avi: 640x640 1 vector, 9.5ms\n",
      "video 1/1 (frame 93/150) C:\\Users\\mihir\\VectorDetector\\BiggerDataset-Attempt\\vector_video.avi: 640x640 1 vector, 9.5ms\n",
      "video 1/1 (frame 94/150) C:\\Users\\mihir\\VectorDetector\\BiggerDataset-Attempt\\vector_video.avi: 640x640 1 vector, 10.5ms\n",
      "video 1/1 (frame 95/150) C:\\Users\\mihir\\VectorDetector\\BiggerDataset-Attempt\\vector_video.avi: 640x640 1 vector, 10.0ms\n",
      "video 1/1 (frame 96/150) C:\\Users\\mihir\\VectorDetector\\BiggerDataset-Attempt\\vector_video.avi: 640x640 (no detections), 19.0ms\n",
      "video 1/1 (frame 97/150) C:\\Users\\mihir\\VectorDetector\\BiggerDataset-Attempt\\vector_video.avi: 640x640 (no detections), 9.5ms\n",
      "video 1/1 (frame 98/150) C:\\Users\\mihir\\VectorDetector\\BiggerDataset-Attempt\\vector_video.avi: 640x640 1 vector, 9.5ms\n",
      "video 1/1 (frame 99/150) C:\\Users\\mihir\\VectorDetector\\BiggerDataset-Attempt\\vector_video.avi: 640x640 1 vector, 9.5ms\n",
      "video 1/1 (frame 100/150) C:\\Users\\mihir\\VectorDetector\\BiggerDataset-Attempt\\vector_video.avi: 640x640 1 vector, 18.8ms\n",
      "video 1/1 (frame 101/150) C:\\Users\\mihir\\VectorDetector\\BiggerDataset-Attempt\\vector_video.avi: 640x640 1 vector, 9.5ms\n",
      "video 1/1 (frame 102/150) C:\\Users\\mihir\\VectorDetector\\BiggerDataset-Attempt\\vector_video.avi: 640x640 1 vector, 9.5ms\n",
      "video 1/1 (frame 103/150) C:\\Users\\mihir\\VectorDetector\\BiggerDataset-Attempt\\vector_video.avi: 640x640 1 vector, 8.5ms\n",
      "video 1/1 (frame 104/150) C:\\Users\\mihir\\VectorDetector\\BiggerDataset-Attempt\\vector_video.avi: 640x640 1 vector, 8.5ms\n",
      "video 1/1 (frame 105/150) C:\\Users\\mihir\\VectorDetector\\BiggerDataset-Attempt\\vector_video.avi: 640x640 1 vector, 10.5ms\n",
      "video 1/1 (frame 106/150) C:\\Users\\mihir\\VectorDetector\\BiggerDataset-Attempt\\vector_video.avi: 640x640 1 vector, 10.8ms\n",
      "video 1/1 (frame 107/150) C:\\Users\\mihir\\VectorDetector\\BiggerDataset-Attempt\\vector_video.avi: 640x640 1 vector, 10.7ms\n",
      "video 1/1 (frame 108/150) C:\\Users\\mihir\\VectorDetector\\BiggerDataset-Attempt\\vector_video.avi: 640x640 1 vector, 10.2ms\n",
      "video 1/1 (frame 109/150) C:\\Users\\mihir\\VectorDetector\\BiggerDataset-Attempt\\vector_video.avi: 640x640 1 vector, 11.1ms\n",
      "video 1/1 (frame 110/150) C:\\Users\\mihir\\VectorDetector\\BiggerDataset-Attempt\\vector_video.avi: 640x640 1 vector, 10.5ms\n",
      "video 1/1 (frame 111/150) C:\\Users\\mihir\\VectorDetector\\BiggerDataset-Attempt\\vector_video.avi: 640x640 1 vector, 8.5ms\n",
      "video 1/1 (frame 112/150) C:\\Users\\mihir\\VectorDetector\\BiggerDataset-Attempt\\vector_video.avi: 640x640 1 vector, 8.5ms\n",
      "video 1/1 (frame 113/150) C:\\Users\\mihir\\VectorDetector\\BiggerDataset-Attempt\\vector_video.avi: 640x640 1 vector, 8.5ms\n",
      "video 1/1 (frame 114/150) C:\\Users\\mihir\\VectorDetector\\BiggerDataset-Attempt\\vector_video.avi: 640x640 1 vector, 8.5ms\n",
      "video 1/1 (frame 115/150) C:\\Users\\mihir\\VectorDetector\\BiggerDataset-Attempt\\vector_video.avi: 640x640 1 vector, 8.5ms\n",
      "video 1/1 (frame 116/150) C:\\Users\\mihir\\VectorDetector\\BiggerDataset-Attempt\\vector_video.avi: 640x640 1 vector, 8.0ms\n",
      "video 1/1 (frame 117/150) C:\\Users\\mihir\\VectorDetector\\BiggerDataset-Attempt\\vector_video.avi: 640x640 1 vector, 8.3ms\n",
      "video 1/1 (frame 118/150) C:\\Users\\mihir\\VectorDetector\\BiggerDataset-Attempt\\vector_video.avi: 640x640 1 vector, 9.5ms\n",
      "video 1/1 (frame 119/150) C:\\Users\\mihir\\VectorDetector\\BiggerDataset-Attempt\\vector_video.avi: 640x640 1 vector, 9.5ms\n",
      "video 1/1 (frame 120/150) C:\\Users\\mihir\\VectorDetector\\BiggerDataset-Attempt\\vector_video.avi: 640x640 1 vector, 8.5ms\n",
      "video 1/1 (frame 121/150) C:\\Users\\mihir\\VectorDetector\\BiggerDataset-Attempt\\vector_video.avi: 640x640 2 vectors, 8.0ms\n",
      "video 1/1 (frame 122/150) C:\\Users\\mihir\\VectorDetector\\BiggerDataset-Attempt\\vector_video.avi: 640x640 2 vectors, 8.1ms\n",
      "video 1/1 (frame 123/150) C:\\Users\\mihir\\VectorDetector\\BiggerDataset-Attempt\\vector_video.avi: 640x640 (no detections), 8.5ms\n",
      "video 1/1 (frame 124/150) C:\\Users\\mihir\\VectorDetector\\BiggerDataset-Attempt\\vector_video.avi: 640x640 (no detections), 9.5ms\n",
      "video 1/1 (frame 125/150) C:\\Users\\mihir\\VectorDetector\\BiggerDataset-Attempt\\vector_video.avi: 640x640 (no detections), 8.5ms\n",
      "video 1/1 (frame 126/150) C:\\Users\\mihir\\VectorDetector\\BiggerDataset-Attempt\\vector_video.avi: 640x640 (no detections), 9.5ms\n",
      "video 1/1 (frame 127/150) C:\\Users\\mihir\\VectorDetector\\BiggerDataset-Attempt\\vector_video.avi: 640x640 (no detections), 9.6ms\n",
      "video 1/1 (frame 128/150) C:\\Users\\mihir\\VectorDetector\\BiggerDataset-Attempt\\vector_video.avi: 640x640 (no detections), 16.5ms\n",
      "video 1/1 (frame 129/150) C:\\Users\\mihir\\VectorDetector\\BiggerDataset-Attempt\\vector_video.avi: 640x640 (no detections), 9.5ms\n",
      "video 1/1 (frame 130/150) C:\\Users\\mihir\\VectorDetector\\BiggerDataset-Attempt\\vector_video.avi: 640x640 (no detections), 9.5ms\n",
      "video 1/1 (frame 131/150) C:\\Users\\mihir\\VectorDetector\\BiggerDataset-Attempt\\vector_video.avi: 640x640 (no detections), 9.5ms\n",
      "video 1/1 (frame 132/150) C:\\Users\\mihir\\VectorDetector\\BiggerDataset-Attempt\\vector_video.avi: 640x640 (no detections), 9.5ms\n",
      "video 1/1 (frame 133/150) C:\\Users\\mihir\\VectorDetector\\BiggerDataset-Attempt\\vector_video.avi: 640x640 (no detections), 8.4ms\n",
      "video 1/1 (frame 134/150) C:\\Users\\mihir\\VectorDetector\\BiggerDataset-Attempt\\vector_video.avi: 640x640 (no detections), 8.5ms\n",
      "video 1/1 (frame 135/150) C:\\Users\\mihir\\VectorDetector\\BiggerDataset-Attempt\\vector_video.avi: 640x640 (no detections), 8.5ms\n",
      "video 1/1 (frame 136/150) C:\\Users\\mihir\\VectorDetector\\BiggerDataset-Attempt\\vector_video.avi: 640x640 (no detections), 9.0ms\n",
      "video 1/1 (frame 137/150) C:\\Users\\mihir\\VectorDetector\\BiggerDataset-Attempt\\vector_video.avi: 640x640 (no detections), 9.5ms\n",
      "video 1/1 (frame 138/150) C:\\Users\\mihir\\VectorDetector\\BiggerDataset-Attempt\\vector_video.avi: 640x640 (no detections), 9.5ms\n",
      "video 1/1 (frame 139/150) C:\\Users\\mihir\\VectorDetector\\BiggerDataset-Attempt\\vector_video.avi: 640x640 (no detections), 9.5ms\n",
      "video 1/1 (frame 140/150) C:\\Users\\mihir\\VectorDetector\\BiggerDataset-Attempt\\vector_video.avi: 640x640 (no detections), 9.1ms\n",
      "video 1/1 (frame 141/150) C:\\Users\\mihir\\VectorDetector\\BiggerDataset-Attempt\\vector_video.avi: 640x640 (no detections), 9.5ms\n",
      "video 1/1 (frame 142/150) C:\\Users\\mihir\\VectorDetector\\BiggerDataset-Attempt\\vector_video.avi: 640x640 (no detections), 8.5ms\n",
      "video 1/1 (frame 143/150) C:\\Users\\mihir\\VectorDetector\\BiggerDataset-Attempt\\vector_video.avi: 640x640 (no detections), 8.4ms\n",
      "video 1/1 (frame 144/150) C:\\Users\\mihir\\VectorDetector\\BiggerDataset-Attempt\\vector_video.avi: 640x640 (no detections), 8.5ms\n",
      "video 1/1 (frame 145/150) C:\\Users\\mihir\\VectorDetector\\BiggerDataset-Attempt\\vector_video.avi: 640x640 (no detections), 8.6ms\n",
      "video 1/1 (frame 146/150) C:\\Users\\mihir\\VectorDetector\\BiggerDataset-Attempt\\vector_video.avi: 640x640 (no detections), 7.5ms\n",
      "video 1/1 (frame 147/150) C:\\Users\\mihir\\VectorDetector\\BiggerDataset-Attempt\\vector_video.avi: 640x640 (no detections), 8.1ms\n",
      "video 1/1 (frame 148/150) C:\\Users\\mihir\\VectorDetector\\BiggerDataset-Attempt\\vector_video.avi: 640x640 (no detections), 8.0ms\n",
      "video 1/1 (frame 149/150) C:\\Users\\mihir\\VectorDetector\\BiggerDataset-Attempt\\vector_video.avi: 640x640 (no detections), 9.3ms\n",
      "video 1/1 (frame 150/150) C:\\Users\\mihir\\VectorDetector\\BiggerDataset-Attempt\\vector_video.avi: 640x640 (no detections), 8.0ms\n",
      "Speed: 3.6ms preprocess, 10.8ms inference, 1.2ms postprocess per image at shape (1, 3, 640, 640)\n",
      "Results saved to \u001b[1mruns\\detect\\predict\u001b[0m\n"
     ]
    }
   ],
   "source": [
    "from ultralytics import YOLO\n",
    "import cv2 \n",
    "from PIL import Image\n",
    "\n",
    "model = YOLO(\"C:/Users/mihir/VectorDetector/BiggerDataset-Attempt/runs/detect/yolov8_fine_tuning4/weights/best.pt\")\n",
    "results = model.predict(source=\"vector_video.avi\", save=True, show=True, conf=0.50)"
   ]
  },
  {
   "cell_type": "code",
   "execution_count": 1,
   "id": "dc252cf1-0996-4c49-acdd-28e3abfe4b87",
   "metadata": {},
   "outputs": [
    {
     "name": "stdout",
     "output_type": "stream",
     "text": [
      "base\n"
     ]
    }
   ],
   "source": [
    "!echo %CONDA_DEFAULT_ENV%\n"
   ]
  },
  {
   "cell_type": "code",
   "execution_count": 3,
   "id": "8472c47b-c9c3-4e30-a6b7-4eed6f6023fa",
   "metadata": {},
   "outputs": [
    {
     "data": {
      "text/plain": [
       "'C:\\\\Users\\\\mihir\\\\anaconda3\\\\envs\\\\yolov8-py311\\\\python.exe'"
      ]
     },
     "execution_count": 3,
     "metadata": {},
     "output_type": "execute_result"
    }
   ],
   "source": [
    "import sys\n",
    "sys.executable\n"
   ]
  },
  {
   "cell_type": "code",
   "execution_count": null,
   "id": "cfee7c30-e2c9-4827-b4cb-ee987b6318f4",
   "metadata": {},
   "outputs": [],
   "source": []
  }
 ],
 "metadata": {
  "kernelspec": {
   "display_name": "Python (YOLOv8)",
   "language": "python",
   "name": "yolov8-py311"
  },
  "language_info": {
   "codemirror_mode": {
    "name": "ipython",
    "version": 3
   },
   "file_extension": ".py",
   "mimetype": "text/x-python",
   "name": "python",
   "nbconvert_exporter": "python",
   "pygments_lexer": "ipython3",
   "version": "3.11.11"
  }
 },
 "nbformat": 4,
 "nbformat_minor": 5
}
