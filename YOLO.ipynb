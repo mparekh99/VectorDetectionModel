{
 "cells": [
  {
   "cell_type": "code",
   "execution_count": 1,
   "id": "bd400ecf",
   "metadata": {},
   "outputs": [
    {
     "name": "stdout",
     "output_type": "stream",
     "text": [
      "Extracted 'dataset.zip' to 'c:\\Users\\mihpa\\swarm\\VisionModel'\n"
     ]
    }
   ],
   "source": [
    "import zipfile\n",
    "import os\n",
    "\n",
    "# Path to your zip file\n",
    "zip_path = 'dataset.zip'  # Replace with your zip file name\n",
    "\n",
    "# Output directory (current directory)\n",
    "output_dir = os.getcwd()\n",
    "\n",
    "# Extract\n",
    "with zipfile.ZipFile(zip_path, 'r') as zip_ref:\n",
    "    zip_ref.extractall(output_dir)\n",
    "\n",
    "print(f\"Extracted '{zip_path}' to '{output_dir}'\")\n"
   ]
  },
  {
   "cell_type": "code",
   "execution_count": 7,
   "id": "9f1c32c7-9b00-4811-a69e-fe44ec298bdc",
   "metadata": {},
   "outputs": [
    {
     "name": "stdout",
     "output_type": "stream",
     "text": [
      "New https://pypi.org/project/ultralytics/8.3.135 available  Update with 'pip install -U ultralytics'\n",
      "Ultralytics YOLOv8.2.103  Python-3.11.11 torch-2.6.0+cpu CPU (AMD Ryzen 7 7730U with Radeon Graphics)\n",
      "\u001b[34m\u001b[1mengine\\trainer: \u001b[0mtask=detect, mode=train, model=yolov8n.pt, data=data.yaml, epochs=30, time=None, patience=100, batch=8, imgsz=640, save=True, save_period=-1, cache=False, device=None, workers=8, project=None, name=yolov8_fine_tuning, exist_ok=False, pretrained=True, optimizer=auto, verbose=True, seed=0, deterministic=True, single_cls=False, rect=False, cos_lr=False, close_mosaic=10, resume=False, amp=True, fraction=1.0, profile=False, freeze=None, multi_scale=False, overlap_mask=True, mask_ratio=4, dropout=0.0, val=True, split=val, save_json=False, save_hybrid=False, conf=None, iou=0.7, max_det=300, half=False, dnn=False, plots=True, source=None, vid_stride=1, stream_buffer=False, visualize=False, augment=False, agnostic_nms=False, classes=None, retina_masks=False, embed=None, show=False, save_frames=False, save_txt=False, save_conf=False, save_crop=False, show_labels=True, show_conf=True, show_boxes=True, line_width=None, format=torchscript, keras=False, optimize=False, int8=False, dynamic=False, simplify=True, opset=None, workspace=4, nms=False, lr0=0.01, lrf=0.01, momentum=0.937, weight_decay=0.0005, warmup_epochs=0, warmup_momentum=0.8, warmup_bias_lr=0.1, box=7.5, cls=0.5, dfl=1.5, pose=12.0, kobj=1.0, label_smoothing=0.0, nbs=64, hsv_h=0.015, hsv_s=0.7, hsv_v=0.4, degrees=0.0, translate=0.1, scale=0.5, shear=0.0, perspective=0.0, flipud=0.0, fliplr=0.5, bgr=0.0, mosaic=1.0, mixup=0.0, copy_paste=0.0, auto_augment=randaugment, erasing=0.4, crop_fraction=1.0, cfg=None, tracker=botsort.yaml, save_dir=runs\\detect\\yolov8_fine_tuning\n",
      "Downloading https://ultralytics.com/assets/Arial.ttf to 'C:\\Users\\mihpa\\AppData\\Roaming\\Ultralytics\\Arial.ttf'...\n"
     ]
    },
    {
     "name": "stderr",
     "output_type": "stream",
     "text": [
      "100%|██████████| 755k/755k [00:00<00:00, 5.41MB/s]"
     ]
    },
    {
     "name": "stdout",
     "output_type": "stream",
     "text": [
      "Overriding model.yaml nc=80 with nc=1\n",
      "\n",
      "                   from  n    params  module                                       arguments                     \n",
      "  0                  -1  1       464  ultralytics.nn.modules.conv.Conv             [3, 16, 3, 2]                 \n",
      "  1                  -1  1      4672  ultralytics.nn.modules.conv.Conv             [16, 32, 3, 2]                \n",
      "  2                  -1  1      7360  ultralytics.nn.modules.block.C2f             [32, 32, 1, True]             \n",
      "  3                  -1  1     18560  ultralytics.nn.modules.conv.Conv             [32, 64, 3, 2]                \n"
     ]
    },
    {
     "name": "stderr",
     "output_type": "stream",
     "text": [
      "\n"
     ]
    },
    {
     "name": "stdout",
     "output_type": "stream",
     "text": [
      "  4                  -1  2     49664  ultralytics.nn.modules.block.C2f             [64, 64, 2, True]             \n",
      "  5                  -1  1     73984  ultralytics.nn.modules.conv.Conv             [64, 128, 3, 2]               \n",
      "  6                  -1  2    197632  ultralytics.nn.modules.block.C2f             [128, 128, 2, True]           \n",
      "  7                  -1  1    295424  ultralytics.nn.modules.conv.Conv             [128, 256, 3, 2]              \n",
      "  8                  -1  1    460288  ultralytics.nn.modules.block.C2f             [256, 256, 1, True]           \n",
      "  9                  -1  1    164608  ultralytics.nn.modules.block.SPPF            [256, 256, 5]                 \n",
      " 10                  -1  1         0  torch.nn.modules.upsampling.Upsample         [None, 2, 'nearest']          \n",
      " 11             [-1, 6]  1         0  ultralytics.nn.modules.conv.Concat           [1]                           \n",
      " 12                  -1  1    148224  ultralytics.nn.modules.block.C2f             [384, 128, 1]                 \n",
      " 13                  -1  1         0  torch.nn.modules.upsampling.Upsample         [None, 2, 'nearest']          \n",
      " 14             [-1, 4]  1         0  ultralytics.nn.modules.conv.Concat           [1]                           \n",
      " 15                  -1  1     37248  ultralytics.nn.modules.block.C2f             [192, 64, 1]                  \n",
      " 16                  -1  1     36992  ultralytics.nn.modules.conv.Conv             [64, 64, 3, 2]                \n",
      " 17            [-1, 12]  1         0  ultralytics.nn.modules.conv.Concat           [1]                           \n",
      " 18                  -1  1    123648  ultralytics.nn.modules.block.C2f             [192, 128, 1]                 \n",
      " 19                  -1  1    147712  ultralytics.nn.modules.conv.Conv             [128, 128, 3, 2]              \n",
      " 20             [-1, 9]  1         0  ultralytics.nn.modules.conv.Concat           [1]                           \n",
      " 21                  -1  1    493056  ultralytics.nn.modules.block.C2f             [384, 256, 1]                 \n",
      " 22        [15, 18, 21]  1    751507  ultralytics.nn.modules.head.Detect           [1, [64, 128, 256]]           \n",
      "Model summary: 225 layers, 3,011,043 parameters, 3,011,027 gradients, 8.2 GFLOPs\n",
      "\n",
      "Transferred 319/355 items from pretrained weights\n",
      "Freezing layer 'model.22.dfl.conv.weight'\n"
     ]
    },
    {
     "name": "stderr",
     "output_type": "stream",
     "text": [
      "\u001b[34m\u001b[1mtrain: \u001b[0mScanning C:\\Users\\mihpa\\swarm\\VisionModel\\dataset\\train\\labels... 232 images, 77 backgrounds, 0 corrupt: 100%|██████████| 232/232 [00:00<00:00, 399.77it/s]"
     ]
    },
    {
     "name": "stdout",
     "output_type": "stream",
     "text": [
      "\u001b[34m\u001b[1mtrain: \u001b[0mNew cache created: C:\\Users\\mihpa\\swarm\\VisionModel\\dataset\\train\\labels.cache\n"
     ]
    },
    {
     "name": "stderr",
     "output_type": "stream",
     "text": [
      "\n",
      "\u001b[34m\u001b[1mval: \u001b[0mScanning C:\\Users\\mihpa\\swarm\\VisionModel\\dataset\\valid\\labels... 58 images, 17 backgrounds, 0 corrupt: 100%|██████████| 58/58 [00:00<00:00, 390.61it/s]"
     ]
    },
    {
     "name": "stdout",
     "output_type": "stream",
     "text": [
      "\u001b[34m\u001b[1mval: \u001b[0mNew cache created: C:\\Users\\mihpa\\swarm\\VisionModel\\dataset\\valid\\labels.cache\n"
     ]
    },
    {
     "name": "stderr",
     "output_type": "stream",
     "text": [
      "\n"
     ]
    },
    {
     "name": "stdout",
     "output_type": "stream",
     "text": [
      "Plotting labels to runs\\detect\\yolov8_fine_tuning\\labels.jpg... \n",
      "\u001b[34m\u001b[1moptimizer:\u001b[0m 'optimizer=auto' found, ignoring 'lr0=0.01' and 'momentum=0.937' and determining best 'optimizer', 'lr0' and 'momentum' automatically... \n",
      "\u001b[34m\u001b[1moptimizer:\u001b[0m AdamW(lr=0.002, momentum=0.9) with parameter groups 57 weight(decay=0.0), 64 weight(decay=0.0005), 63 bias(decay=0.0)\n",
      "Image sizes 640 train, 640 val\n",
      "Using 0 dataloader workers\n",
      "Logging results to \u001b[1mruns\\detect\\yolov8_fine_tuning\u001b[0m\n",
      "Starting training for 30 epochs...\n",
      "\n",
      "      Epoch    GPU_mem   box_loss   cls_loss   dfl_loss  Instances       Size\n"
     ]
    },
    {
     "name": "stderr",
     "output_type": "stream",
     "text": [
      "       1/30         0G      1.557      4.266      1.537         17        640: 100%|██████████| 29/29 [01:03<00:00,  2.19s/it]\n",
      "                 Class     Images  Instances      Box(P          R      mAP50  mAP50-95): 100%|██████████| 4/4 [00:03<00:00,  1.01it/s]"
     ]
    },
    {
     "name": "stdout",
     "output_type": "stream",
     "text": [
      "                   all         58         41     0.0019      0.805    0.00197   0.000638\n"
     ]
    },
    {
     "name": "stderr",
     "output_type": "stream",
     "text": [
      "\n"
     ]
    },
    {
     "name": "stdout",
     "output_type": "stream",
     "text": [
      "\n",
      "      Epoch    GPU_mem   box_loss   cls_loss   dfl_loss  Instances       Size\n"
     ]
    },
    {
     "name": "stderr",
     "output_type": "stream",
     "text": [
      "       2/30         0G      1.314      3.347      1.342         10        640: 100%|██████████| 29/29 [01:03<00:00,  2.21s/it]\n",
      "                 Class     Images  Instances      Box(P          R      mAP50  mAP50-95): 100%|██████████| 4/4 [00:03<00:00,  1.25it/s]"
     ]
    },
    {
     "name": "stdout",
     "output_type": "stream",
     "text": [
      "                   all         58         41     0.0708      0.305     0.0573     0.0368\n"
     ]
    },
    {
     "name": "stderr",
     "output_type": "stream",
     "text": [
      "\n"
     ]
    },
    {
     "name": "stdout",
     "output_type": "stream",
     "text": [
      "\n",
      "      Epoch    GPU_mem   box_loss   cls_loss   dfl_loss  Instances       Size\n"
     ]
    },
    {
     "name": "stderr",
     "output_type": "stream",
     "text": [
      "       3/30         0G      1.109      2.622      1.291         10        640: 100%|██████████| 29/29 [01:06<00:00,  2.30s/it]\n",
      "                 Class     Images  Instances      Box(P          R      mAP50  mAP50-95): 100%|██████████| 4/4 [00:03<00:00,  1.15it/s]"
     ]
    },
    {
     "name": "stdout",
     "output_type": "stream",
     "text": [
      "                   all         58         41      0.622      0.642      0.572      0.392\n"
     ]
    },
    {
     "name": "stderr",
     "output_type": "stream",
     "text": [
      "\n"
     ]
    },
    {
     "name": "stdout",
     "output_type": "stream",
     "text": [
      "\n",
      "      Epoch    GPU_mem   box_loss   cls_loss   dfl_loss  Instances       Size\n"
     ]
    },
    {
     "name": "stderr",
     "output_type": "stream",
     "text": [
      "       4/30         0G      0.903      1.892      1.164         17        640: 100%|██████████| 29/29 [01:07<00:00,  2.32s/it]\n",
      "                 Class     Images  Instances      Box(P          R      mAP50  mAP50-95): 100%|██████████| 4/4 [00:03<00:00,  1.11it/s]"
     ]
    },
    {
     "name": "stdout",
     "output_type": "stream",
     "text": [
      "                   all         58         41      0.927      0.927      0.985      0.825\n"
     ]
    },
    {
     "name": "stderr",
     "output_type": "stream",
     "text": [
      "\n"
     ]
    },
    {
     "name": "stdout",
     "output_type": "stream",
     "text": [
      "\n",
      "      Epoch    GPU_mem   box_loss   cls_loss   dfl_loss  Instances       Size\n"
     ]
    },
    {
     "name": "stderr",
     "output_type": "stream",
     "text": [
      "       5/30         0G     0.7934      1.633      1.072          6        640: 100%|██████████| 29/29 [01:05<00:00,  2.26s/it]\n",
      "                 Class     Images  Instances      Box(P          R      mAP50  mAP50-95): 100%|██████████| 4/4 [00:03<00:00,  1.18it/s]"
     ]
    },
    {
     "name": "stdout",
     "output_type": "stream",
     "text": [
      "                   all         58         41      0.999      0.976      0.995      0.861\n"
     ]
    },
    {
     "name": "stderr",
     "output_type": "stream",
     "text": [
      "\n"
     ]
    },
    {
     "name": "stdout",
     "output_type": "stream",
     "text": [
      "\n",
      "      Epoch    GPU_mem   box_loss   cls_loss   dfl_loss  Instances       Size\n"
     ]
    },
    {
     "name": "stderr",
     "output_type": "stream",
     "text": [
      "       6/30         0G     0.7114      1.347      1.032          9        640: 100%|██████████| 29/29 [01:04<00:00,  2.22s/it]\n",
      "                 Class     Images  Instances      Box(P          R      mAP50  mAP50-95): 100%|██████████| 4/4 [00:03<00:00,  1.15it/s]"
     ]
    },
    {
     "name": "stdout",
     "output_type": "stream",
     "text": [
      "                   all         58         41      0.974          1      0.992      0.866\n"
     ]
    },
    {
     "name": "stderr",
     "output_type": "stream",
     "text": [
      "\n"
     ]
    },
    {
     "name": "stdout",
     "output_type": "stream",
     "text": [
      "\n",
      "      Epoch    GPU_mem   box_loss   cls_loss   dfl_loss  Instances       Size\n"
     ]
    },
    {
     "name": "stderr",
     "output_type": "stream",
     "text": [
      "       7/30         0G     0.7452      1.279      1.053         13        640: 100%|██████████| 29/29 [01:08<00:00,  2.35s/it]\n",
      "                 Class     Images  Instances      Box(P          R      mAP50  mAP50-95): 100%|██████████| 4/4 [00:03<00:00,  1.13it/s]"
     ]
    },
    {
     "name": "stdout",
     "output_type": "stream",
     "text": [
      "                   all         58         41      0.991      0.976      0.992      0.874\n"
     ]
    },
    {
     "name": "stderr",
     "output_type": "stream",
     "text": [
      "\n"
     ]
    },
    {
     "name": "stdout",
     "output_type": "stream",
     "text": [
      "\n",
      "      Epoch    GPU_mem   box_loss   cls_loss   dfl_loss  Instances       Size\n"
     ]
    },
    {
     "name": "stderr",
     "output_type": "stream",
     "text": [
      "       8/30         0G      0.661      1.235      1.017         11        640: 100%|██████████| 29/29 [01:08<00:00,  2.35s/it]\n",
      "                 Class     Images  Instances      Box(P          R      mAP50  mAP50-95): 100%|██████████| 4/4 [00:04<00:00,  1.20s/it]"
     ]
    },
    {
     "name": "stdout",
     "output_type": "stream",
     "text": [
      "                   all         58         41      0.975          1      0.994      0.908\n"
     ]
    },
    {
     "name": "stderr",
     "output_type": "stream",
     "text": [
      "\n"
     ]
    },
    {
     "name": "stdout",
     "output_type": "stream",
     "text": [
      "\n",
      "      Epoch    GPU_mem   box_loss   cls_loss   dfl_loss  Instances       Size\n"
     ]
    },
    {
     "name": "stderr",
     "output_type": "stream",
     "text": [
      "       9/30         0G     0.6139      1.097      0.963          8        640: 100%|██████████| 29/29 [01:07<00:00,  2.32s/it]\n",
      "                 Class     Images  Instances      Box(P          R      mAP50  mAP50-95): 100%|██████████| 4/4 [00:03<00:00,  1.10it/s]"
     ]
    },
    {
     "name": "stdout",
     "output_type": "stream",
     "text": [
      "                   all         58         41      0.971      0.976      0.991      0.898\n"
     ]
    },
    {
     "name": "stderr",
     "output_type": "stream",
     "text": [
      "\n"
     ]
    },
    {
     "name": "stdout",
     "output_type": "stream",
     "text": [
      "\n",
      "      Epoch    GPU_mem   box_loss   cls_loss   dfl_loss  Instances       Size\n"
     ]
    },
    {
     "name": "stderr",
     "output_type": "stream",
     "text": [
      "      10/30         0G     0.6176      1.011     0.9557          8        640: 100%|██████████| 29/29 [01:16<00:00,  2.62s/it]\n",
      "                 Class     Images  Instances      Box(P          R      mAP50  mAP50-95): 100%|██████████| 4/4 [00:03<00:00,  1.08it/s]"
     ]
    },
    {
     "name": "stdout",
     "output_type": "stream",
     "text": [
      "                   all         58         41      0.997          1      0.995      0.918\n"
     ]
    },
    {
     "name": "stderr",
     "output_type": "stream",
     "text": [
      "\n"
     ]
    },
    {
     "name": "stdout",
     "output_type": "stream",
     "text": [
      "\n",
      "      Epoch    GPU_mem   box_loss   cls_loss   dfl_loss  Instances       Size\n"
     ]
    },
    {
     "name": "stderr",
     "output_type": "stream",
     "text": [
      "      11/30         0G     0.5962     0.9927     0.9996          9        640: 100%|██████████| 29/29 [01:12<00:00,  2.50s/it]\n",
      "                 Class     Images  Instances      Box(P          R      mAP50  mAP50-95): 100%|██████████| 4/4 [00:04<00:00,  1.03s/it]"
     ]
    },
    {
     "name": "stdout",
     "output_type": "stream",
     "text": [
      "                   all         58         41      0.993          1      0.995      0.901\n"
     ]
    },
    {
     "name": "stderr",
     "output_type": "stream",
     "text": [
      "\n"
     ]
    },
    {
     "name": "stdout",
     "output_type": "stream",
     "text": [
      "\n",
      "      Epoch    GPU_mem   box_loss   cls_loss   dfl_loss  Instances       Size\n"
     ]
    },
    {
     "name": "stderr",
     "output_type": "stream",
     "text": [
      "      12/30         0G     0.5495     0.9228     0.9276          8        640: 100%|██████████| 29/29 [01:09<00:00,  2.41s/it]\n",
      "                 Class     Images  Instances      Box(P          R      mAP50  mAP50-95): 100%|██████████| 4/4 [00:03<00:00,  1.12it/s]"
     ]
    },
    {
     "name": "stdout",
     "output_type": "stream",
     "text": [
      "                   all         58         41          1      0.974      0.994      0.921\n"
     ]
    },
    {
     "name": "stderr",
     "output_type": "stream",
     "text": [
      "\n"
     ]
    },
    {
     "name": "stdout",
     "output_type": "stream",
     "text": [
      "\n",
      "      Epoch    GPU_mem   box_loss   cls_loss   dfl_loss  Instances       Size\n"
     ]
    },
    {
     "name": "stderr",
     "output_type": "stream",
     "text": [
      "      13/30         0G     0.5758     0.8796     0.9609         18        640: 100%|██████████| 29/29 [01:06<00:00,  2.29s/it]\n",
      "                 Class     Images  Instances      Box(P          R      mAP50  mAP50-95): 100%|██████████| 4/4 [00:03<00:00,  1.10it/s]"
     ]
    },
    {
     "name": "stdout",
     "output_type": "stream",
     "text": [
      "                   all         58         41      0.953      0.997       0.99      0.932\n"
     ]
    },
    {
     "name": "stderr",
     "output_type": "stream",
     "text": [
      "\n"
     ]
    },
    {
     "name": "stdout",
     "output_type": "stream",
     "text": [
      "\n",
      "      Epoch    GPU_mem   box_loss   cls_loss   dfl_loss  Instances       Size\n"
     ]
    },
    {
     "name": "stderr",
     "output_type": "stream",
     "text": [
      "      14/30         0G     0.5194     0.8001     0.9265         10        640: 100%|██████████| 29/29 [01:06<00:00,  2.29s/it]\n",
      "                 Class     Images  Instances      Box(P          R      mAP50  mAP50-95): 100%|██████████| 4/4 [00:03<00:00,  1.14it/s]"
     ]
    },
    {
     "name": "stdout",
     "output_type": "stream",
     "text": [
      "                   all         58         41      0.999          1      0.995      0.941\n"
     ]
    },
    {
     "name": "stderr",
     "output_type": "stream",
     "text": [
      "\n"
     ]
    },
    {
     "name": "stdout",
     "output_type": "stream",
     "text": [
      "\n",
      "      Epoch    GPU_mem   box_loss   cls_loss   dfl_loss  Instances       Size\n"
     ]
    },
    {
     "name": "stderr",
     "output_type": "stream",
     "text": [
      "      15/30         0G     0.5422     0.7675     0.9458          8        640: 100%|██████████| 29/29 [01:06<00:00,  2.30s/it]\n",
      "                 Class     Images  Instances      Box(P          R      mAP50  mAP50-95): 100%|██████████| 4/4 [00:03<00:00,  1.13it/s]"
     ]
    },
    {
     "name": "stdout",
     "output_type": "stream",
     "text": [
      "                   all         58         41      0.999          1      0.995      0.932\n"
     ]
    },
    {
     "name": "stderr",
     "output_type": "stream",
     "text": [
      "\n"
     ]
    },
    {
     "name": "stdout",
     "output_type": "stream",
     "text": [
      "\n",
      "      Epoch    GPU_mem   box_loss   cls_loss   dfl_loss  Instances       Size\n"
     ]
    },
    {
     "name": "stderr",
     "output_type": "stream",
     "text": [
      "      16/30         0G     0.5266     0.7407      0.934         11        640: 100%|██████████| 29/29 [01:07<00:00,  2.32s/it]\n",
      "                 Class     Images  Instances      Box(P          R      mAP50  mAP50-95): 100%|██████████| 4/4 [00:03<00:00,  1.13it/s]"
     ]
    },
    {
     "name": "stdout",
     "output_type": "stream",
     "text": [
      "                   all         58         41      0.998          1      0.995      0.925\n"
     ]
    },
    {
     "name": "stderr",
     "output_type": "stream",
     "text": [
      "\n"
     ]
    },
    {
     "name": "stdout",
     "output_type": "stream",
     "text": [
      "\n",
      "      Epoch    GPU_mem   box_loss   cls_loss   dfl_loss  Instances       Size\n"
     ]
    },
    {
     "name": "stderr",
     "output_type": "stream",
     "text": [
      "      17/30         0G     0.5269      0.767     0.9528          8        640: 100%|██████████| 29/29 [01:06<00:00,  2.28s/it]\n",
      "                 Class     Images  Instances      Box(P          R      mAP50  mAP50-95): 100%|██████████| 4/4 [00:03<00:00,  1.14it/s]"
     ]
    },
    {
     "name": "stdout",
     "output_type": "stream",
     "text": [
      "                   all         58         41      0.998          1      0.995      0.951\n"
     ]
    },
    {
     "name": "stderr",
     "output_type": "stream",
     "text": [
      "\n"
     ]
    },
    {
     "name": "stdout",
     "output_type": "stream",
     "text": [
      "\n",
      "      Epoch    GPU_mem   box_loss   cls_loss   dfl_loss  Instances       Size\n"
     ]
    },
    {
     "name": "stderr",
     "output_type": "stream",
     "text": [
      "      18/30         0G      0.448     0.6687     0.8894         10        640: 100%|██████████| 29/29 [01:06<00:00,  2.29s/it]\n",
      "                 Class     Images  Instances      Box(P          R      mAP50  mAP50-95): 100%|██████████| 4/4 [00:03<00:00,  1.09it/s]"
     ]
    },
    {
     "name": "stdout",
     "output_type": "stream",
     "text": [
      "                   all         58         41      0.998          1      0.995      0.945\n"
     ]
    },
    {
     "name": "stderr",
     "output_type": "stream",
     "text": [
      "\n"
     ]
    },
    {
     "name": "stdout",
     "output_type": "stream",
     "text": [
      "\n",
      "      Epoch    GPU_mem   box_loss   cls_loss   dfl_loss  Instances       Size\n"
     ]
    },
    {
     "name": "stderr",
     "output_type": "stream",
     "text": [
      "      19/30         0G     0.4907     0.6863     0.9311          8        640: 100%|██████████| 29/29 [01:07<00:00,  2.32s/it]\n",
      "                 Class     Images  Instances      Box(P          R      mAP50  mAP50-95): 100%|██████████| 4/4 [00:03<00:00,  1.14it/s]"
     ]
    },
    {
     "name": "stdout",
     "output_type": "stream",
     "text": [
      "                   all         58         41      0.999          1      0.995       0.95\n"
     ]
    },
    {
     "name": "stderr",
     "output_type": "stream",
     "text": [
      "\n"
     ]
    },
    {
     "name": "stdout",
     "output_type": "stream",
     "text": [
      "\n",
      "      Epoch    GPU_mem   box_loss   cls_loss   dfl_loss  Instances       Size\n"
     ]
    },
    {
     "name": "stderr",
     "output_type": "stream",
     "text": [
      "      20/30         0G     0.4667     0.6778      0.919          7        640: 100%|██████████| 29/29 [01:07<00:00,  2.33s/it]\n",
      "                 Class     Images  Instances      Box(P          R      mAP50  mAP50-95): 100%|██████████| 4/4 [00:03<00:00,  1.11it/s]"
     ]
    },
    {
     "name": "stdout",
     "output_type": "stream",
     "text": [
      "                   all         58         41      0.999          1      0.995      0.949\n"
     ]
    },
    {
     "name": "stderr",
     "output_type": "stream",
     "text": [
      "\n"
     ]
    },
    {
     "name": "stdout",
     "output_type": "stream",
     "text": [
      "Closing dataloader mosaic\n",
      "\n",
      "      Epoch    GPU_mem   box_loss   cls_loss   dfl_loss  Instances       Size\n"
     ]
    },
    {
     "name": "stderr",
     "output_type": "stream",
     "text": [
      "      21/30         0G     0.3934     0.7529     0.8279          6        640: 100%|██████████| 29/29 [01:06<00:00,  2.28s/it]\n",
      "                 Class     Images  Instances      Box(P          R      mAP50  mAP50-95): 100%|██████████| 4/4 [00:03<00:00,  1.14it/s]"
     ]
    },
    {
     "name": "stdout",
     "output_type": "stream",
     "text": [
      "                   all         58         41      0.999          1      0.995      0.951\n"
     ]
    },
    {
     "name": "stderr",
     "output_type": "stream",
     "text": [
      "\n"
     ]
    },
    {
     "name": "stdout",
     "output_type": "stream",
     "text": [
      "\n",
      "      Epoch    GPU_mem   box_loss   cls_loss   dfl_loss  Instances       Size\n"
     ]
    },
    {
     "name": "stderr",
     "output_type": "stream",
     "text": [
      "      22/30         0G     0.3846     0.7372     0.8542          4        640: 100%|██████████| 29/29 [01:05<00:00,  2.27s/it]\n",
      "                 Class     Images  Instances      Box(P          R      mAP50  mAP50-95): 100%|██████████| 4/4 [00:03<00:00,  1.13it/s]"
     ]
    },
    {
     "name": "stdout",
     "output_type": "stream",
     "text": [
      "                   all         58         41      0.999          1      0.995      0.974\n"
     ]
    },
    {
     "name": "stderr",
     "output_type": "stream",
     "text": [
      "\n"
     ]
    },
    {
     "name": "stdout",
     "output_type": "stream",
     "text": [
      "\n",
      "      Epoch    GPU_mem   box_loss   cls_loss   dfl_loss  Instances       Size\n"
     ]
    },
    {
     "name": "stderr",
     "output_type": "stream",
     "text": [
      "      23/30         0G     0.3899     0.6941     0.8282          5        640: 100%|██████████| 29/29 [01:08<00:00,  2.35s/it]\n",
      "                 Class     Images  Instances      Box(P          R      mAP50  mAP50-95): 100%|██████████| 4/4 [00:03<00:00,  1.12it/s]"
     ]
    },
    {
     "name": "stdout",
     "output_type": "stream",
     "text": [
      "                   all         58         41      0.997          1      0.995      0.963\n"
     ]
    },
    {
     "name": "stderr",
     "output_type": "stream",
     "text": [
      "\n"
     ]
    },
    {
     "name": "stdout",
     "output_type": "stream",
     "text": [
      "\n",
      "      Epoch    GPU_mem   box_loss   cls_loss   dfl_loss  Instances       Size\n"
     ]
    },
    {
     "name": "stderr",
     "output_type": "stream",
     "text": [
      "      24/30         0G     0.3776      0.669     0.8343          5        640: 100%|██████████| 29/29 [01:09<00:00,  2.40s/it]\n",
      "                 Class     Images  Instances      Box(P          R      mAP50  mAP50-95): 100%|██████████| 4/4 [00:03<00:00,  1.06it/s]"
     ]
    },
    {
     "name": "stdout",
     "output_type": "stream",
     "text": [
      "                   all         58         41      0.999          1      0.995      0.945\n"
     ]
    },
    {
     "name": "stderr",
     "output_type": "stream",
     "text": [
      "\n"
     ]
    },
    {
     "name": "stdout",
     "output_type": "stream",
     "text": [
      "\n",
      "      Epoch    GPU_mem   box_loss   cls_loss   dfl_loss  Instances       Size\n"
     ]
    },
    {
     "name": "stderr",
     "output_type": "stream",
     "text": [
      "      25/30         0G     0.3836     0.6348     0.8567          5        640: 100%|██████████| 29/29 [01:06<00:00,  2.29s/it]\n",
      "                 Class     Images  Instances      Box(P          R      mAP50  mAP50-95): 100%|██████████| 4/4 [00:03<00:00,  1.14it/s]"
     ]
    },
    {
     "name": "stdout",
     "output_type": "stream",
     "text": [
      "                   all         58         41      0.999          1      0.995      0.962\n"
     ]
    },
    {
     "name": "stderr",
     "output_type": "stream",
     "text": [
      "\n"
     ]
    },
    {
     "name": "stdout",
     "output_type": "stream",
     "text": [
      "\n",
      "      Epoch    GPU_mem   box_loss   cls_loss   dfl_loss  Instances       Size\n"
     ]
    },
    {
     "name": "stderr",
     "output_type": "stream",
     "text": [
      "      26/30         0G     0.3739     0.6391      0.851          6        640: 100%|██████████| 29/29 [01:06<00:00,  2.30s/it]\n",
      "                 Class     Images  Instances      Box(P          R      mAP50  mAP50-95): 100%|██████████| 4/4 [00:03<00:00,  1.13it/s]"
     ]
    },
    {
     "name": "stdout",
     "output_type": "stream",
     "text": [
      "                   all         58         41      0.999          1      0.995      0.963\n"
     ]
    },
    {
     "name": "stderr",
     "output_type": "stream",
     "text": [
      "\n"
     ]
    },
    {
     "name": "stdout",
     "output_type": "stream",
     "text": [
      "\n",
      "      Epoch    GPU_mem   box_loss   cls_loss   dfl_loss  Instances       Size\n"
     ]
    },
    {
     "name": "stderr",
     "output_type": "stream",
     "text": [
      "      27/30         0G     0.3493     0.6125      0.842          5        640: 100%|██████████| 29/29 [01:06<00:00,  2.30s/it]\n",
      "                 Class     Images  Instances      Box(P          R      mAP50  mAP50-95): 100%|██████████| 4/4 [00:03<00:00,  1.14it/s]"
     ]
    },
    {
     "name": "stdout",
     "output_type": "stream",
     "text": [
      "                   all         58         41      0.999          1      0.995      0.965\n"
     ]
    },
    {
     "name": "stderr",
     "output_type": "stream",
     "text": [
      "\n"
     ]
    },
    {
     "name": "stdout",
     "output_type": "stream",
     "text": [
      "\n",
      "      Epoch    GPU_mem   box_loss   cls_loss   dfl_loss  Instances       Size\n"
     ]
    },
    {
     "name": "stderr",
     "output_type": "stream",
     "text": [
      "      28/30         0G     0.3503     0.5891     0.8362          6        640: 100%|██████████| 29/29 [01:06<00:00,  2.28s/it]\n",
      "                 Class     Images  Instances      Box(P          R      mAP50  mAP50-95): 100%|██████████| 4/4 [00:03<00:00,  1.10it/s]"
     ]
    },
    {
     "name": "stdout",
     "output_type": "stream",
     "text": [
      "                   all         58         41      0.999          1      0.995      0.965\n"
     ]
    },
    {
     "name": "stderr",
     "output_type": "stream",
     "text": [
      "\n"
     ]
    },
    {
     "name": "stdout",
     "output_type": "stream",
     "text": [
      "\n",
      "      Epoch    GPU_mem   box_loss   cls_loss   dfl_loss  Instances       Size\n"
     ]
    },
    {
     "name": "stderr",
     "output_type": "stream",
     "text": [
      "      29/30         0G     0.3336      0.547     0.8372          5        640: 100%|██████████| 29/29 [01:06<00:00,  2.30s/it]\n",
      "                 Class     Images  Instances      Box(P          R      mAP50  mAP50-95): 100%|██████████| 4/4 [00:03<00:00,  1.07it/s]"
     ]
    },
    {
     "name": "stdout",
     "output_type": "stream",
     "text": [
      "                   all         58         41      0.999          1      0.995      0.962\n"
     ]
    },
    {
     "name": "stderr",
     "output_type": "stream",
     "text": [
      "\n"
     ]
    },
    {
     "name": "stdout",
     "output_type": "stream",
     "text": [
      "\n",
      "      Epoch    GPU_mem   box_loss   cls_loss   dfl_loss  Instances       Size\n"
     ]
    },
    {
     "name": "stderr",
     "output_type": "stream",
     "text": [
      "      30/30         0G     0.3288     0.5636     0.8585          5        640: 100%|██████████| 29/29 [01:07<00:00,  2.33s/it]\n",
      "                 Class     Images  Instances      Box(P          R      mAP50  mAP50-95): 100%|██████████| 4/4 [00:03<00:00,  1.14it/s]"
     ]
    },
    {
     "name": "stdout",
     "output_type": "stream",
     "text": [
      "                   all         58         41      0.999          1      0.995      0.966\n"
     ]
    },
    {
     "name": "stderr",
     "output_type": "stream",
     "text": [
      "\n"
     ]
    },
    {
     "name": "stdout",
     "output_type": "stream",
     "text": [
      "\n",
      "30 epochs completed in 0.595 hours.\n",
      "Optimizer stripped from runs\\detect\\yolov8_fine_tuning\\weights\\last.pt, 6.2MB\n",
      "Optimizer stripped from runs\\detect\\yolov8_fine_tuning\\weights\\best.pt, 6.2MB\n",
      "\n",
      "Validating runs\\detect\\yolov8_fine_tuning\\weights\\best.pt...\n",
      "Ultralytics YOLOv8.2.103  Python-3.11.11 torch-2.6.0+cpu CPU (AMD Ryzen 7 7730U with Radeon Graphics)\n",
      "Model summary (fused): 168 layers, 3,005,843 parameters, 0 gradients, 8.1 GFLOPs\n"
     ]
    },
    {
     "name": "stderr",
     "output_type": "stream",
     "text": [
      "                 Class     Images  Instances      Box(P          R      mAP50  mAP50-95): 100%|██████████| 4/4 [00:03<00:00,  1.27it/s]\n"
     ]
    },
    {
     "name": "stdout",
     "output_type": "stream",
     "text": [
      "                   all         58         41      0.998          1      0.995      0.974\n",
      "Speed: 1.5ms preprocess, 47.3ms inference, 0.0ms loss, 0.9ms postprocess per image\n",
      "Results saved to \u001b[1mruns\\detect\\yolov8_fine_tuning\u001b[0m\n"
     ]
    }
   ],
   "source": [
    "from ultralytics import YOLO \n",
    "\n",
    "# Load the Model\n",
    "model = YOLO(\"yolov8n.pt\")  #using nano\n",
    "\n",
    "#Train\n",
    "results = model.train(\n",
    "    data='data.yaml',\n",
    "    imgsz=640,           # Match your image width, or try keeping 640x480 aspect\n",
    "    epochs=30,\n",
    "    batch=8,             # Reduce for small dataset + to fit in GPU memory\n",
    "    name='yolov8_fine_tuning',\n",
    "    warmup_epochs=0,  \n",
    "    cache=False\n",
    ")\n"
   ]
  },
  {
   "cell_type": "code",
   "execution_count": 8,
   "id": "156eccb2",
   "metadata": {},
   "outputs": [
    {
     "name": "stdout",
     "output_type": "stream",
     "text": [
      "Extracted 'vector_video.zip' to 'c:\\Users\\mihpa\\swarm\\VisionModel'\n"
     ]
    }
   ],
   "source": [
    "import zipfile\n",
    "import os\n",
    "\n",
    "# Path to your zip file\n",
    "zip_path = 'vector_video.zip'  # Replace with your zip file name\n",
    "\n",
    "# Output directory (current directory)\n",
    "output_dir = os.getcwd()\n",
    "\n",
    "# Extract\n",
    "with zipfile.ZipFile(zip_path, 'r') as zip_ref:\n",
    "    zip_ref.extractall(output_dir)\n",
    "\n",
    "print(f\"Extracted '{zip_path}' to '{output_dir}'\")\n"
   ]
  },
  {
   "cell_type": "code",
   "execution_count": null,
   "id": "91245fa8-fca8-417b-82c8-ddea73592025",
   "metadata": {},
   "outputs": [
    {
     "name": "stdout",
     "output_type": "stream",
     "text": [
      "\n",
      "\n",
      "WARNING  inference results will accumulate in RAM unless `stream=True` is passed, causing potential out-of-memory\n",
      "errors for large sources or long-running streams and videos. See https://docs.ultralytics.com/modes/predict/ for help.\n",
      "\n",
      "Example:\n",
      "    results = model(source=..., stream=True)  # generator of Results objects\n",
      "    for r in results:\n",
      "        boxes = r.boxes  # Boxes object for bbox outputs\n",
      "        masks = r.masks  # Masks object for segment masks outputs\n",
      "        probs = r.probs  # Class probabilities for classification outputs\n",
      "\n",
      "video 1/1 (frame 1/150) c:\\Users\\mihpa\\swarm\\VisionModel\\vector_video2.avi: 640x640 1 vector, 154.0ms\n",
      "video 1/1 (frame 2/150) c:\\Users\\mihpa\\swarm\\VisionModel\\vector_video2.avi: 640x640 1 vector, 84.5ms\n",
      "video 1/1 (frame 3/150) c:\\Users\\mihpa\\swarm\\VisionModel\\vector_video2.avi: 640x640 1 vector, 78.2ms\n",
      "video 1/1 (frame 4/150) c:\\Users\\mihpa\\swarm\\VisionModel\\vector_video2.avi: 640x640 1 vector, 74.1ms\n",
      "video 1/1 (frame 5/150) c:\\Users\\mihpa\\swarm\\VisionModel\\vector_video2.avi: 640x640 1 vector, 76.0ms\n",
      "video 1/1 (frame 6/150) c:\\Users\\mihpa\\swarm\\VisionModel\\vector_video2.avi: 640x640 1 vector, 69.8ms\n",
      "video 1/1 (frame 7/150) c:\\Users\\mihpa\\swarm\\VisionModel\\vector_video2.avi: 640x640 1 vector, 75.0ms\n",
      "video 1/1 (frame 8/150) c:\\Users\\mihpa\\swarm\\VisionModel\\vector_video2.avi: 640x640 1 vector, 81.2ms\n",
      "video 1/1 (frame 9/150) c:\\Users\\mihpa\\swarm\\VisionModel\\vector_video2.avi: 640x640 1 vector, 72.4ms\n",
      "video 1/1 (frame 10/150) c:\\Users\\mihpa\\swarm\\VisionModel\\vector_video2.avi: 640x640 1 vector, 72.6ms\n",
      "video 1/1 (frame 11/150) c:\\Users\\mihpa\\swarm\\VisionModel\\vector_video2.avi: 640x640 1 vector, 69.9ms\n",
      "video 1/1 (frame 12/150) c:\\Users\\mihpa\\swarm\\VisionModel\\vector_video2.avi: 640x640 1 vector, 68.9ms\n",
      "video 1/1 (frame 13/150) c:\\Users\\mihpa\\swarm\\VisionModel\\vector_video2.avi: 640x640 1 vector, 74.5ms\n",
      "video 1/1 (frame 14/150) c:\\Users\\mihpa\\swarm\\VisionModel\\vector_video2.avi: 640x640 1 vector, 67.6ms\n",
      "video 1/1 (frame 15/150) c:\\Users\\mihpa\\swarm\\VisionModel\\vector_video2.avi: 640x640 1 vector, 67.0ms\n",
      "video 1/1 (frame 16/150) c:\\Users\\mihpa\\swarm\\VisionModel\\vector_video2.avi: 640x640 1 vector, 95.6ms\n",
      "video 1/1 (frame 17/150) c:\\Users\\mihpa\\swarm\\VisionModel\\vector_video2.avi: 640x640 1 vector, 69.1ms\n",
      "video 1/1 (frame 18/150) c:\\Users\\mihpa\\swarm\\VisionModel\\vector_video2.avi: 640x640 1 vector, 68.9ms\n",
      "video 1/1 (frame 19/150) c:\\Users\\mihpa\\swarm\\VisionModel\\vector_video2.avi: 640x640 1 vector, 71.9ms\n",
      "video 1/1 (frame 20/150) c:\\Users\\mihpa\\swarm\\VisionModel\\vector_video2.avi: 640x640 1 vector, 67.7ms\n",
      "video 1/1 (frame 21/150) c:\\Users\\mihpa\\swarm\\VisionModel\\vector_video2.avi: 640x640 1 vector, 70.5ms\n",
      "video 1/1 (frame 22/150) c:\\Users\\mihpa\\swarm\\VisionModel\\vector_video2.avi: 640x640 1 vector, 74.5ms\n",
      "video 1/1 (frame 23/150) c:\\Users\\mihpa\\swarm\\VisionModel\\vector_video2.avi: 640x640 1 vector, 67.0ms\n",
      "video 1/1 (frame 24/150) c:\\Users\\mihpa\\swarm\\VisionModel\\vector_video2.avi: 640x640 1 vector, 75.7ms\n",
      "video 1/1 (frame 25/150) c:\\Users\\mihpa\\swarm\\VisionModel\\vector_video2.avi: 640x640 1 vector, 72.7ms\n",
      "video 1/1 (frame 26/150) c:\\Users\\mihpa\\swarm\\VisionModel\\vector_video2.avi: 640x640 1 vector, 67.8ms\n",
      "video 1/1 (frame 27/150) c:\\Users\\mihpa\\swarm\\VisionModel\\vector_video2.avi: 640x640 1 vector, 68.5ms\n",
      "video 1/1 (frame 28/150) c:\\Users\\mihpa\\swarm\\VisionModel\\vector_video2.avi: 640x640 1 vector, 68.2ms\n",
      "video 1/1 (frame 29/150) c:\\Users\\mihpa\\swarm\\VisionModel\\vector_video2.avi: 640x640 1 vector, 76.2ms\n",
      "video 1/1 (frame 30/150) c:\\Users\\mihpa\\swarm\\VisionModel\\vector_video2.avi: 640x640 1 vector, 73.5ms\n",
      "video 1/1 (frame 31/150) c:\\Users\\mihpa\\swarm\\VisionModel\\vector_video2.avi: 640x640 1 vector, 68.0ms\n",
      "video 1/1 (frame 32/150) c:\\Users\\mihpa\\swarm\\VisionModel\\vector_video2.avi: 640x640 1 vector, 72.6ms\n",
      "video 1/1 (frame 33/150) c:\\Users\\mihpa\\swarm\\VisionModel\\vector_video2.avi: 640x640 1 vector, 75.3ms\n",
      "video 1/1 (frame 34/150) c:\\Users\\mihpa\\swarm\\VisionModel\\vector_video2.avi: 640x640 1 vector, 75.1ms\n",
      "video 1/1 (frame 35/150) c:\\Users\\mihpa\\swarm\\VisionModel\\vector_video2.avi: 640x640 1 vector, 68.2ms\n",
      "video 1/1 (frame 36/150) c:\\Users\\mihpa\\swarm\\VisionModel\\vector_video2.avi: 640x640 1 vector, 74.8ms\n",
      "video 1/1 (frame 37/150) c:\\Users\\mihpa\\swarm\\VisionModel\\vector_video2.avi: 640x640 1 vector, 81.6ms\n",
      "video 1/1 (frame 38/150) c:\\Users\\mihpa\\swarm\\VisionModel\\vector_video2.avi: 640x640 1 vector, 76.8ms\n",
      "video 1/1 (frame 39/150) c:\\Users\\mihpa\\swarm\\VisionModel\\vector_video2.avi: 640x640 1 vector, 76.7ms\n",
      "video 1/1 (frame 40/150) c:\\Users\\mihpa\\swarm\\VisionModel\\vector_video2.avi: 640x640 1 vector, 78.4ms\n",
      "video 1/1 (frame 41/150) c:\\Users\\mihpa\\swarm\\VisionModel\\vector_video2.avi: 640x640 1 vector, 78.8ms\n",
      "video 1/1 (frame 42/150) c:\\Users\\mihpa\\swarm\\VisionModel\\vector_video2.avi: 640x640 1 vector, 80.8ms\n",
      "video 1/1 (frame 43/150) c:\\Users\\mihpa\\swarm\\VisionModel\\vector_video2.avi: 640x640 1 vector, 76.1ms\n",
      "video 1/1 (frame 44/150) c:\\Users\\mihpa\\swarm\\VisionModel\\vector_video2.avi: 640x640 1 vector, 74.4ms\n",
      "video 1/1 (frame 45/150) c:\\Users\\mihpa\\swarm\\VisionModel\\vector_video2.avi: 640x640 1 vector, 82.1ms\n",
      "video 1/1 (frame 46/150) c:\\Users\\mihpa\\swarm\\VisionModel\\vector_video2.avi: 640x640 1 vector, 75.5ms\n",
      "video 1/1 (frame 47/150) c:\\Users\\mihpa\\swarm\\VisionModel\\vector_video2.avi: 640x640 1 vector, 77.2ms\n",
      "video 1/1 (frame 48/150) c:\\Users\\mihpa\\swarm\\VisionModel\\vector_video2.avi: 640x640 1 vector, 67.6ms\n",
      "video 1/1 (frame 49/150) c:\\Users\\mihpa\\swarm\\VisionModel\\vector_video2.avi: 640x640 1 vector, 77.4ms\n",
      "video 1/1 (frame 50/150) c:\\Users\\mihpa\\swarm\\VisionModel\\vector_video2.avi: 640x640 1 vector, 71.9ms\n",
      "video 1/1 (frame 51/150) c:\\Users\\mihpa\\swarm\\VisionModel\\vector_video2.avi: 640x640 1 vector, 84.5ms\n",
      "video 1/1 (frame 52/150) c:\\Users\\mihpa\\swarm\\VisionModel\\vector_video2.avi: 640x640 1 vector, 93.0ms\n",
      "video 1/1 (frame 53/150) c:\\Users\\mihpa\\swarm\\VisionModel\\vector_video2.avi: 640x640 1 vector, 73.3ms\n",
      "video 1/1 (frame 54/150) c:\\Users\\mihpa\\swarm\\VisionModel\\vector_video2.avi: 640x640 1 vector, 82.0ms\n",
      "video 1/1 (frame 55/150) c:\\Users\\mihpa\\swarm\\VisionModel\\vector_video2.avi: 640x640 1 vector, 71.1ms\n",
      "video 1/1 (frame 56/150) c:\\Users\\mihpa\\swarm\\VisionModel\\vector_video2.avi: 640x640 1 vector, 75.5ms\n",
      "video 1/1 (frame 57/150) c:\\Users\\mihpa\\swarm\\VisionModel\\vector_video2.avi: 640x640 1 vector, 78.9ms\n",
      "video 1/1 (frame 58/150) c:\\Users\\mihpa\\swarm\\VisionModel\\vector_video2.avi: 640x640 1 vector, 73.4ms\n",
      "video 1/1 (frame 59/150) c:\\Users\\mihpa\\swarm\\VisionModel\\vector_video2.avi: 640x640 1 vector, 73.1ms\n",
      "video 1/1 (frame 60/150) c:\\Users\\mihpa\\swarm\\VisionModel\\vector_video2.avi: 640x640 1 vector, 87.9ms\n",
      "video 1/1 (frame 61/150) c:\\Users\\mihpa\\swarm\\VisionModel\\vector_video2.avi: 640x640 1 vector, 80.9ms\n",
      "video 1/1 (frame 62/150) c:\\Users\\mihpa\\swarm\\VisionModel\\vector_video2.avi: 640x640 1 vector, 82.2ms\n",
      "video 1/1 (frame 63/150) c:\\Users\\mihpa\\swarm\\VisionModel\\vector_video2.avi: 640x640 1 vector, 82.0ms\n",
      "video 1/1 (frame 64/150) c:\\Users\\mihpa\\swarm\\VisionModel\\vector_video2.avi: 640x640 1 vector, 78.1ms\n",
      "video 1/1 (frame 65/150) c:\\Users\\mihpa\\swarm\\VisionModel\\vector_video2.avi: 640x640 1 vector, 79.4ms\n",
      "video 1/1 (frame 66/150) c:\\Users\\mihpa\\swarm\\VisionModel\\vector_video2.avi: 640x640 1 vector, 82.0ms\n",
      "video 1/1 (frame 67/150) c:\\Users\\mihpa\\swarm\\VisionModel\\vector_video2.avi: 640x640 1 vector, 82.4ms\n",
      "video 1/1 (frame 68/150) c:\\Users\\mihpa\\swarm\\VisionModel\\vector_video2.avi: 640x640 1 vector, 69.2ms\n",
      "video 1/1 (frame 69/150) c:\\Users\\mihpa\\swarm\\VisionModel\\vector_video2.avi: 640x640 1 vector, 76.1ms\n",
      "video 1/1 (frame 70/150) c:\\Users\\mihpa\\swarm\\VisionModel\\vector_video2.avi: 640x640 1 vector, 66.8ms\n",
      "video 1/1 (frame 71/150) c:\\Users\\mihpa\\swarm\\VisionModel\\vector_video2.avi: 640x640 1 vector, 68.4ms\n",
      "video 1/1 (frame 72/150) c:\\Users\\mihpa\\swarm\\VisionModel\\vector_video2.avi: 640x640 1 vector, 77.5ms\n",
      "video 1/1 (frame 73/150) c:\\Users\\mihpa\\swarm\\VisionModel\\vector_video2.avi: 640x640 1 vector, 70.1ms\n",
      "video 1/1 (frame 74/150) c:\\Users\\mihpa\\swarm\\VisionModel\\vector_video2.avi: 640x640 (no detections), 75.9ms\n",
      "video 1/1 (frame 75/150) c:\\Users\\mihpa\\swarm\\VisionModel\\vector_video2.avi: 640x640 (no detections), 74.1ms\n",
      "video 1/1 (frame 76/150) c:\\Users\\mihpa\\swarm\\VisionModel\\vector_video2.avi: 640x640 (no detections), 72.5ms\n",
      "video 1/1 (frame 77/150) c:\\Users\\mihpa\\swarm\\VisionModel\\vector_video2.avi: 640x640 (no detections), 80.7ms\n",
      "video 1/1 (frame 78/150) c:\\Users\\mihpa\\swarm\\VisionModel\\vector_video2.avi: 640x640 (no detections), 80.4ms\n",
      "video 1/1 (frame 79/150) c:\\Users\\mihpa\\swarm\\VisionModel\\vector_video2.avi: 640x640 (no detections), 74.0ms\n",
      "video 1/1 (frame 80/150) c:\\Users\\mihpa\\swarm\\VisionModel\\vector_video2.avi: 640x640 (no detections), 69.0ms\n",
      "video 1/1 (frame 81/150) c:\\Users\\mihpa\\swarm\\VisionModel\\vector_video2.avi: 640x640 (no detections), 73.3ms\n",
      "video 1/1 (frame 82/150) c:\\Users\\mihpa\\swarm\\VisionModel\\vector_video2.avi: 640x640 (no detections), 73.4ms\n",
      "video 1/1 (frame 83/150) c:\\Users\\mihpa\\swarm\\VisionModel\\vector_video2.avi: 640x640 (no detections), 69.8ms\n",
      "video 1/1 (frame 84/150) c:\\Users\\mihpa\\swarm\\VisionModel\\vector_video2.avi: 640x640 (no detections), 78.4ms\n",
      "video 1/1 (frame 85/150) c:\\Users\\mihpa\\swarm\\VisionModel\\vector_video2.avi: 640x640 (no detections), 72.6ms\n",
      "video 1/1 (frame 86/150) c:\\Users\\mihpa\\swarm\\VisionModel\\vector_video2.avi: 640x640 (no detections), 73.8ms\n",
      "video 1/1 (frame 87/150) c:\\Users\\mihpa\\swarm\\VisionModel\\vector_video2.avi: 640x640 (no detections), 75.1ms\n",
      "video 1/1 (frame 88/150) c:\\Users\\mihpa\\swarm\\VisionModel\\vector_video2.avi: 640x640 (no detections), 76.1ms\n",
      "video 1/1 (frame 89/150) c:\\Users\\mihpa\\swarm\\VisionModel\\vector_video2.avi: 640x640 (no detections), 80.2ms\n",
      "video 1/1 (frame 90/150) c:\\Users\\mihpa\\swarm\\VisionModel\\vector_video2.avi: 640x640 (no detections), 76.8ms\n",
      "video 1/1 (frame 91/150) c:\\Users\\mihpa\\swarm\\VisionModel\\vector_video2.avi: 640x640 (no detections), 77.1ms\n",
      "video 1/1 (frame 92/150) c:\\Users\\mihpa\\swarm\\VisionModel\\vector_video2.avi: 640x640 (no detections), 74.9ms\n",
      "video 1/1 (frame 93/150) c:\\Users\\mihpa\\swarm\\VisionModel\\vector_video2.avi: 640x640 (no detections), 71.6ms\n",
      "video 1/1 (frame 94/150) c:\\Users\\mihpa\\swarm\\VisionModel\\vector_video2.avi: 640x640 (no detections), 101.3ms\n",
      "video 1/1 (frame 95/150) c:\\Users\\mihpa\\swarm\\VisionModel\\vector_video2.avi: 640x640 (no detections), 77.2ms\n",
      "video 1/1 (frame 96/150) c:\\Users\\mihpa\\swarm\\VisionModel\\vector_video2.avi: 640x640 (no detections), 76.9ms\n",
      "video 1/1 (frame 97/150) c:\\Users\\mihpa\\swarm\\VisionModel\\vector_video2.avi: 640x640 (no detections), 77.8ms\n",
      "video 1/1 (frame 98/150) c:\\Users\\mihpa\\swarm\\VisionModel\\vector_video2.avi: 640x640 (no detections), 73.6ms\n",
      "video 1/1 (frame 99/150) c:\\Users\\mihpa\\swarm\\VisionModel\\vector_video2.avi: 640x640 (no detections), 83.8ms\n",
      "video 1/1 (frame 100/150) c:\\Users\\mihpa\\swarm\\VisionModel\\vector_video2.avi: 640x640 (no detections), 76.8ms\n",
      "video 1/1 (frame 101/150) c:\\Users\\mihpa\\swarm\\VisionModel\\vector_video2.avi: 640x640 (no detections), 69.6ms\n",
      "video 1/1 (frame 102/150) c:\\Users\\mihpa\\swarm\\VisionModel\\vector_video2.avi: 640x640 (no detections), 73.2ms\n",
      "video 1/1 (frame 103/150) c:\\Users\\mihpa\\swarm\\VisionModel\\vector_video2.avi: 640x640 (no detections), 77.7ms\n",
      "video 1/1 (frame 104/150) c:\\Users\\mihpa\\swarm\\VisionModel\\vector_video2.avi: 640x640 (no detections), 83.8ms\n",
      "video 1/1 (frame 105/150) c:\\Users\\mihpa\\swarm\\VisionModel\\vector_video2.avi: 640x640 (no detections), 82.9ms\n",
      "video 1/1 (frame 106/150) c:\\Users\\mihpa\\swarm\\VisionModel\\vector_video2.avi: 640x640 (no detections), 77.6ms\n",
      "video 1/1 (frame 107/150) c:\\Users\\mihpa\\swarm\\VisionModel\\vector_video2.avi: 640x640 (no detections), 79.4ms\n",
      "video 1/1 (frame 108/150) c:\\Users\\mihpa\\swarm\\VisionModel\\vector_video2.avi: 640x640 (no detections), 83.1ms\n",
      "video 1/1 (frame 109/150) c:\\Users\\mihpa\\swarm\\VisionModel\\vector_video2.avi: 640x640 (no detections), 69.1ms\n",
      "video 1/1 (frame 110/150) c:\\Users\\mihpa\\swarm\\VisionModel\\vector_video2.avi: 640x640 (no detections), 75.3ms\n",
      "video 1/1 (frame 111/150) c:\\Users\\mihpa\\swarm\\VisionModel\\vector_video2.avi: 640x640 (no detections), 72.3ms\n",
      "video 1/1 (frame 112/150) c:\\Users\\mihpa\\swarm\\VisionModel\\vector_video2.avi: 640x640 (no detections), 66.8ms\n",
      "video 1/1 (frame 113/150) c:\\Users\\mihpa\\swarm\\VisionModel\\vector_video2.avi: 640x640 (no detections), 73.0ms\n",
      "video 1/1 (frame 114/150) c:\\Users\\mihpa\\swarm\\VisionModel\\vector_video2.avi: 640x640 (no detections), 67.6ms\n",
      "video 1/1 (frame 115/150) c:\\Users\\mihpa\\swarm\\VisionModel\\vector_video2.avi: 640x640 (no detections), 70.5ms\n",
      "video 1/1 (frame 116/150) c:\\Users\\mihpa\\swarm\\VisionModel\\vector_video2.avi: 640x640 (no detections), 70.8ms\n",
      "video 1/1 (frame 117/150) c:\\Users\\mihpa\\swarm\\VisionModel\\vector_video2.avi: 640x640 (no detections), 70.3ms\n",
      "video 1/1 (frame 118/150) c:\\Users\\mihpa\\swarm\\VisionModel\\vector_video2.avi: 640x640 (no detections), 74.2ms\n",
      "video 1/1 (frame 119/150) c:\\Users\\mihpa\\swarm\\VisionModel\\vector_video2.avi: 640x640 (no detections), 73.5ms\n",
      "video 1/1 (frame 120/150) c:\\Users\\mihpa\\swarm\\VisionModel\\vector_video2.avi: 640x640 (no detections), 74.1ms\n",
      "video 1/1 (frame 121/150) c:\\Users\\mihpa\\swarm\\VisionModel\\vector_video2.avi: 640x640 (no detections), 75.0ms\n",
      "video 1/1 (frame 122/150) c:\\Users\\mihpa\\swarm\\VisionModel\\vector_video2.avi: 640x640 (no detections), 74.6ms\n",
      "video 1/1 (frame 123/150) c:\\Users\\mihpa\\swarm\\VisionModel\\vector_video2.avi: 640x640 (no detections), 72.1ms\n",
      "video 1/1 (frame 124/150) c:\\Users\\mihpa\\swarm\\VisionModel\\vector_video2.avi: 640x640 1 vector, 73.3ms\n",
      "video 1/1 (frame 125/150) c:\\Users\\mihpa\\swarm\\VisionModel\\vector_video2.avi: 640x640 1 vector, 71.2ms\n",
      "video 1/1 (frame 126/150) c:\\Users\\mihpa\\swarm\\VisionModel\\vector_video2.avi: 640x640 1 vector, 70.3ms\n",
      "video 1/1 (frame 127/150) c:\\Users\\mihpa\\swarm\\VisionModel\\vector_video2.avi: 640x640 (no detections), 67.0ms\n",
      "video 1/1 (frame 128/150) c:\\Users\\mihpa\\swarm\\VisionModel\\vector_video2.avi: 640x640 (no detections), 71.2ms\n",
      "video 1/1 (frame 129/150) c:\\Users\\mihpa\\swarm\\VisionModel\\vector_video2.avi: 640x640 (no detections), 72.1ms\n",
      "video 1/1 (frame 130/150) c:\\Users\\mihpa\\swarm\\VisionModel\\vector_video2.avi: 640x640 (no detections), 65.4ms\n",
      "video 1/1 (frame 131/150) c:\\Users\\mihpa\\swarm\\VisionModel\\vector_video2.avi: 640x640 (no detections), 69.5ms\n",
      "video 1/1 (frame 132/150) c:\\Users\\mihpa\\swarm\\VisionModel\\vector_video2.avi: 640x640 1 vector, 74.4ms\n",
      "video 1/1 (frame 133/150) c:\\Users\\mihpa\\swarm\\VisionModel\\vector_video2.avi: 640x640 1 vector, 81.2ms\n",
      "video 1/1 (frame 134/150) c:\\Users\\mihpa\\swarm\\VisionModel\\vector_video2.avi: 640x640 1 vector, 68.6ms\n",
      "video 1/1 (frame 135/150) c:\\Users\\mihpa\\swarm\\VisionModel\\vector_video2.avi: 640x640 (no detections), 72.0ms\n",
      "video 1/1 (frame 136/150) c:\\Users\\mihpa\\swarm\\VisionModel\\vector_video2.avi: 640x640 (no detections), 73.0ms\n",
      "video 1/1 (frame 137/150) c:\\Users\\mihpa\\swarm\\VisionModel\\vector_video2.avi: 640x640 (no detections), 66.7ms\n",
      "video 1/1 (frame 138/150) c:\\Users\\mihpa\\swarm\\VisionModel\\vector_video2.avi: 640x640 (no detections), 67.9ms\n",
      "video 1/1 (frame 139/150) c:\\Users\\mihpa\\swarm\\VisionModel\\vector_video2.avi: 640x640 1 vector, 70.9ms\n",
      "video 1/1 (frame 140/150) c:\\Users\\mihpa\\swarm\\VisionModel\\vector_video2.avi: 640x640 1 vector, 67.4ms\n",
      "video 1/1 (frame 141/150) c:\\Users\\mihpa\\swarm\\VisionModel\\vector_video2.avi: 640x640 1 vector, 82.9ms\n",
      "video 1/1 (frame 142/150) c:\\Users\\mihpa\\swarm\\VisionModel\\vector_video2.avi: 640x640 (no detections), 70.5ms\n",
      "video 1/1 (frame 143/150) c:\\Users\\mihpa\\swarm\\VisionModel\\vector_video2.avi: 640x640 (no detections), 72.6ms\n",
      "video 1/1 (frame 144/150) c:\\Users\\mihpa\\swarm\\VisionModel\\vector_video2.avi: 640x640 (no detections), 79.4ms\n",
      "video 1/1 (frame 145/150) c:\\Users\\mihpa\\swarm\\VisionModel\\vector_video2.avi: 640x640 (no detections), 74.3ms\n",
      "video 1/1 (frame 146/150) c:\\Users\\mihpa\\swarm\\VisionModel\\vector_video2.avi: 640x640 (no detections), 74.4ms\n",
      "video 1/1 (frame 147/150) c:\\Users\\mihpa\\swarm\\VisionModel\\vector_video2.avi: 640x640 (no detections), 90.7ms\n",
      "video 1/1 (frame 148/150) c:\\Users\\mihpa\\swarm\\VisionModel\\vector_video2.avi: 640x640 (no detections), 74.3ms\n",
      "video 1/1 (frame 149/150) c:\\Users\\mihpa\\swarm\\VisionModel\\vector_video2.avi: 640x640 (no detections), 70.5ms\n",
      "video 1/1 (frame 150/150) c:\\Users\\mihpa\\swarm\\VisionModel\\vector_video2.avi: 640x640 (no detections), 75.5ms\n",
      "Speed: 4.2ms preprocess, 75.4ms inference, 1.0ms postprocess per image at shape (1, 3, 640, 640)\n",
      "Results saved to \u001b[1mruns\\detect\\predict2\u001b[0m\n"
     ]
    },
    {
     "ename": "",
     "evalue": "",
     "output_type": "error",
     "traceback": [
      "\u001b[1;31mThe Kernel crashed while executing code in the current cell or a previous cell. \n",
      "\u001b[1;31mPlease review the code in the cell(s) to identify a possible cause of the failure. \n",
      "\u001b[1;31mClick <a href='https://aka.ms/vscodeJupyterKernelCrash'>here</a> for more info. \n",
      "\u001b[1;31mView Jupyter <a href='command:jupyter.viewOutput'>log</a> for further details."
     ]
    }
   ],
   "source": [
    "from ultralytics import YOLO\n",
    "import cv2 \n",
    "from PIL import Image\n",
    "\n",
    "model = YOLO(\"C:/Users/mihpa/swarm/VisionModel/runs/detect/yolov8_fine_tuning/weights/best.pt\")\n",
    "results = model.predict(source=\"vector_video2.avi\", save=True, show=True, conf=0.50)"
   ]
  }
 ],
 "metadata": {
  "kernelspec": {
   "display_name": "yolov8-py311",
   "language": "python",
   "name": "python3"
  },
  "language_info": {
   "codemirror_mode": {
    "name": "ipython",
    "version": 3
   },
   "file_extension": ".py",
   "mimetype": "text/x-python",
   "name": "python",
   "nbconvert_exporter": "python",
   "pygments_lexer": "ipython3",
   "version": "3.11.11"
  }
 },
 "nbformat": 4,
 "nbformat_minor": 5
}
